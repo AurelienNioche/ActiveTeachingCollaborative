{
 "cells": [
  {
   "cell_type": "code",
   "execution_count": 1,
   "id": "32089f39",
   "metadata": {},
   "outputs": [],
   "source": [
    "from torch.utils.data import DataLoader\n",
    "import numpy as np\n",
    "from scipy.special import expit\n",
    "import torch\n",
    "\n",
    "from torch.utils.data import Dataset\n",
    "\n",
    "\n",
    "class TeachingDataset(Dataset):\n",
    "    def __init__(self, u, w, x, r, y):\n",
    "        super().__init__()\n",
    "        self.x = x  # torch.from_numpy(x.reshape(-1, 1))\n",
    "        self.y = y  # torch.from_numpy(y.reshape(-1, 1))\n",
    "        self.r = r  # torch.from_numpy(r.reshape(-1, 1))\n",
    "        self.u = u\n",
    "        self.w = w\n",
    "\n",
    "        self.n_u = len(np.unique(u))\n",
    "        self.n_w = len(np.unique(w))\n",
    "        self.n_obs = len(self.u)\n",
    "\n",
    "    def __len__(self):\n",
    "        return self.n_obs\n",
    "\n",
    "    def __getitem__(self, idx):\n",
    "        return {'x': self.x[idx],\n",
    "                'y': self.y[idx],\n",
    "                'r': self.r[idx],\n",
    "                'u': self.u[idx],\n",
    "                'w': self.w[idx]}"
   ]
  },
  {
   "cell_type": "code",
   "execution_count": 7,
   "id": "24fe9a23",
   "metadata": {},
   "outputs": [],
   "source": [
    "seed=123\n",
    "sg_u=(0.5, 0.2)\n",
    "sg_w=(1.0, 0.4)\n",
    "mu=(-4., -2.)\n",
    "n_u=20\n",
    "n_w=20\n",
    "n_obs_per_wu=100\n",
    "use_torch=True\n",
    "use_torch_dataset=True\n",
    "\n",
    "np.random.seed(seed)\n",
    "n_obs = n_obs_per_wu * n_u * n_w\n",
    "\n",
    "u = np.concatenate(\n",
    "    [np.zeros(n_obs_per_wu * n_w, dtype=int) + i for i in range(n_u)])\n",
    "w = np.tile(np.concatenate(\n",
    "    [np.zeros(n_obs_per_wu, dtype=int) + i for i in range(n_w)]), n_u)\n",
    "\n",
    "r = np.zeros(n_obs)\n",
    "r[:] = np.tile(np.concatenate(\n",
    "    [np.arange(1, n_obs_per_wu + 1, dtype=int) for _ in range(n_w)]), n_u)\n",
    "\n",
    "Zu = np.random.normal(np.zeros(2), sg_u, size=(n_u, 2))\n",
    "Zw = np.random.normal(np.zeros(2), sg_w, size=(n_w, 2))\n",
    "\n",
    "x = np.random.uniform(5, 1000, size=n_obs)\n",
    "rd = np.random.random(size=n_obs)\n",
    "\n",
    "y = np.zeros(shape=n_obs)\n",
    "\n",
    "Z = mu + Zu[u] + Zw[w]\n",
    "\n",
    "a = np.exp(Z[:, 0])\n",
    "b = expit(Z[:, 1])\n",
    "neg_rate = - a * x * (1 - b) ** r\n",
    "p = np.exp(neg_rate)\n",
    "y[:] = p > rd\n",
    "\n",
    "data = {'u': u, 'w': w,\n",
    "        'x': x, 'r': r,\n",
    "        'y': y}\n",
    "\n",
    "sg_u_smp = np.std(Zu, axis=0)\n",
    "sg_w_smp = np.std(Zw, axis=0)\n",
    "mu_smp = np.mean(Z, axis=0)\n",
    "truth = {'mu': mu, 'sg_u': sg_u, 'sg_w': sg_w,\n",
    "         'mu_smp': mu_smp, 'sg_u_smp': sg_u_smp, 'sg_w_smp': sg_w_smp}\n",
    "\n",
    "if use_torch or use_torch_dataset:\n",
    "    dataset = {\n",
    "        'x': torch.from_numpy(data['x'].reshape(-1, 1)),\n",
    "        'y': torch.from_numpy(data['y'].reshape(-1, 1)),\n",
    "        'r': torch.from_numpy(data['r'].reshape(-1, 1)),\n",
    "        'u': data['u'],\n",
    "        'w': data['w']}\n",
    "\n",
    "# extra step to have a dataset object\n",
    "if use_torch_dataset:\n",
    "    dataset = TeachingDataset(**dataset)\n",
    "    # dataloader = DataLoader(training_data, batch_size=batch_size, shuffle=True)"
   ]
  },
  {
   "cell_type": "code",
   "execution_count": 9,
   "id": "cbe6a4d7",
   "metadata": {},
   "outputs": [],
   "source": [
    "n = len(dataset)\n",
    "\n",
    "prop_training = 0.8\n",
    "n_training = int(prop_training*n)\n",
    "n_testing = n - n_training\n",
    "\n",
    "train_set, val_set = torch.utils.data.random_split(\n",
    "    dataset,\n",
    "    [n_training, n_testing])"
   ]
  },
  {
   "cell_type": "code",
   "execution_count": 10,
   "id": "fb038c89",
   "metadata": {},
   "outputs": [
    {
     "data": {
      "text/plain": [
       "<torch.utils.data.dataset.Subset at 0x11a7f1ca0>"
      ]
     },
     "execution_count": 10,
     "metadata": {},
     "output_type": "execute_result"
    }
   ],
   "source": [
    "train_set"
   ]
  },
  {
   "cell_type": "code",
   "execution_count": 18,
   "id": "6b2c19cf",
   "metadata": {},
   "outputs": [],
   "source": [
    "batch_size = None\n",
    "\n",
    "dataloader = DataLoader(train_set, batch_size=n, shuffle=True)"
   ]
  },
  {
   "cell_type": "code",
   "execution_count": 19,
   "id": "95d1dd5a",
   "metadata": {},
   "outputs": [
    {
     "data": {
      "text/plain": [
       "<torch.utils.data.dataloader.DataLoader at 0x11a8c4af0>"
      ]
     },
     "execution_count": 19,
     "metadata": {},
     "output_type": "execute_result"
    }
   ],
   "source": [
    "dataloader"
   ]
  },
  {
   "cell_type": "code",
   "execution_count": 22,
   "id": "64aaabab",
   "metadata": {},
   "outputs": [
    {
     "name": "stdout",
     "output_type": "stream",
     "text": [
      "{'x': tensor([[466.3345],\n",
      "        [477.8361],\n",
      "        [777.6123],\n",
      "        ...,\n",
      "        [240.6484],\n",
      "        [565.0919],\n",
      "        [600.0327]], dtype=torch.float64), 'y': tensor([[1.],\n",
      "        [1.],\n",
      "        [0.],\n",
      "        ...,\n",
      "        [1.],\n",
      "        [0.],\n",
      "        [1.]], dtype=torch.float64), 'r': tensor([[37.],\n",
      "        [89.],\n",
      "        [ 5.],\n",
      "        ...,\n",
      "        [46.],\n",
      "        [11.],\n",
      "        [43.]], dtype=torch.float64), 'u': tensor([ 0,  5, 16,  ..., 19,  6, 15]), 'w': tensor([ 1,  8, 10,  ...,  8,  7, 10])}\n"
     ]
    }
   ],
   "source": [
    "for d in dataloader:\n",
    "    print(d)"
   ]
  },
  {
   "cell_type": "code",
   "execution_count": 23,
   "id": "20d0ac43",
   "metadata": {},
   "outputs": [
    {
     "name": "stdout",
     "output_type": "stream",
     "text": [
      "{'x': tensor([[948.6978],\n",
      "        [164.7421],\n",
      "        [310.9428],\n",
      "        ...,\n",
      "        [458.7298],\n",
      "        [ 64.9126],\n",
      "        [ 76.3431]], dtype=torch.float64), 'y': tensor([[1.],\n",
      "        [1.],\n",
      "        [1.],\n",
      "        ...,\n",
      "        [1.],\n",
      "        [1.],\n",
      "        [1.]], dtype=torch.float64), 'r': tensor([[98.],\n",
      "        [25.],\n",
      "        [79.],\n",
      "        ...,\n",
      "        [73.],\n",
      "        [65.],\n",
      "        [65.]], dtype=torch.float64), 'u': tensor([ 0, 16,  5,  ..., 12, 13,  4]), 'w': tensor([ 9,  7,  0,  ..., 19, 15, 16])}\n"
     ]
    }
   ],
   "source": [
    "for d in dataloader:\n",
    "    print(d)"
   ]
  },
  {
   "cell_type": "code",
   "execution_count": null,
   "id": "a83337f7",
   "metadata": {},
   "outputs": [],
   "source": [
    "torch.nn.L"
   ]
  }
 ],
 "metadata": {
  "kernelspec": {
   "display_name": "Python 3 (ipykernel)",
   "language": "python",
   "name": "python3"
  },
  "language_info": {
   "codemirror_mode": {
    "name": "ipython",
    "version": 3
   },
   "file_extension": ".py",
   "mimetype": "text/x-python",
   "name": "python",
   "nbconvert_exporter": "python",
   "pygments_lexer": "ipython3",
   "version": "3.9.12"
  },
  "toc": {
   "base_numbering": 1,
   "nav_menu": {},
   "number_sections": true,
   "sideBar": true,
   "skip_h1_title": false,
   "title_cell": "Table of Contents",
   "title_sidebar": "Contents",
   "toc_cell": false,
   "toc_position": {},
   "toc_section_display": true,
   "toc_window_display": false
  }
 },
 "nbformat": 4,
 "nbformat_minor": 5
}
