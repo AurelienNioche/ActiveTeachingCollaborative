{
 "cells": [
  {
   "cell_type": "code",
   "execution_count": 1,
   "id": "preceding-norwegian",
   "metadata": {},
   "outputs": [],
   "source": [
    "import numpy as np\n",
    "import pandas as pd\n",
    "import scipy.stats\n",
    "import pymc3 as pm\n",
    "import arviz as az\n",
    "import theano.tensor as tt"
   ]
  },
  {
   "cell_type": "code",
   "execution_count": null,
   "id": "biblical-brass",
   "metadata": {},
   "outputs": [],
   "source": [
    "with pm.Model() as model:\n",
    "    \n",
    "    # mu_a = 2.0\n",
    "    # sigma_a = 2.0\n",
    "    # mu_b = 0.5\n",
    "    # sigma_b = 0.1\n",
    "    mu_a = pm.TruncatedNormal(\"mu_a\", mu=2.0, sigma=1, lower=0.02, upper=2500.0)\n",
    "    sigma_a = pm.HalfNormal(\"sigma_a\", 2.0)\n",
    "    mu_b = pm.TruncatedNormal(\"mu_b\", mu=0.3, sigma=1, lower=0, upper=1)\n",
    "    sigma_b = pm.HalfNormal(\"sigma_b\", 0.1)\n",
    "    \n",
    "    α = pm.TruncatedNormal('α', mu=mu_a, sigma=sigma_a, lower=0.02, upper=2500.0, shape=n)\n",
    "    β = pm.TruncatedNormal('β', mu=mu_b, sigma=sigma_b, lower=0.0, upper=1.0, shape=n)\n",
    "    \n",
    "    # list_alpha = [α[i] for i in agent]\n",
    "    # list_beta = [β[i] for i in agent]\n",
    "    \n",
    "    # alpha = tt.stack(list_alpha)\n",
    "    # beta = tt.stack(list_beta)\n",
    "    \n",
    "    to_concat = []\n",
    "    \n",
    "    for i in range(n):\n",
    "        df_a = df[df.agent == i]\n",
    "        n_rep, delta_rep = df_a.n_rep.values, df_a.delta_rep.values\n",
    "        \n",
    "        alpha = α[i]\n",
    "        beta = β[i]\n",
    "        \n",
    "        lp = - delta_rep * alpha * (1 - beta) ** n_rep * 1e-05\n",
    "        logit_p = lp - np.log(1 - np.exp(lp) + eps)\n",
    "        \n",
    "        to_concat.append(logit_p)\n",
    "\n",
    "#     lp = - delta_rep * alpha * (1 - beta) ** n_rep * 1e-05\n",
    "#     logit_p = lp - np.log(1 - np.exp(lp) + eps)\n",
    "    # logit_p = alpha / pm.math.maximum(alpha)\n",
    "    \n",
    "    \n",
    "    logit_p_tamere = tt.concatenate(to_concat)\n",
    "    success = df.success.astype(bool).values\n",
    "    \n",
    "    recall = pm.Bernoulli('recall', logit_p=logit_p_tamere, observed=success)"
   ]
  }
 ],
 "metadata": {
  "kernelspec": {
   "display_name": "Python 3",
   "language": "python",
   "name": "python3"
  },
  "language_info": {
   "codemirror_mode": {
    "name": "ipython",
    "version": 3
   },
   "file_extension": ".py",
   "mimetype": "text/x-python",
   "name": "python",
   "nbconvert_exporter": "python",
   "pygments_lexer": "ipython3",
   "version": "3.9.1"
  }
 },
 "nbformat": 4,
 "nbformat_minor": 5
}
