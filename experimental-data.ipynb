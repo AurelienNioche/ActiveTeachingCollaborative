{
 "cells": [
  {
   "cell_type": "code",
   "execution_count": 1,
   "id": "agreed-asian",
   "metadata": {},
   "outputs": [],
   "source": [
    "import os\n",
    "import numpy as np\n",
    "import matplotlib.pyplot as plt\n",
    "import seaborn as sns\n",
    "import pandas as pd\n",
    "import torch\n",
    "import scipy\n",
    "\n",
    "from data_preprocessing.data_preprocessing import get_experimental_data\n",
    "\n",
    "from inference.loss import LossTeaching\n",
    "from inference.train import train\n",
    "\n",
    "from plot.plot_hist_loss import plot_loss\n",
    "from plot.plot_posterior import plot_posterior"
   ]
  },
  {
   "cell_type": "code",
   "execution_count": 2,
   "id": "brief-swimming",
   "metadata": {},
   "outputs": [],
   "source": [
    "%config InlineBackend.figure_format = 'retina'\n",
    "sns.set()"
   ]
  },
  {
   "cell_type": "markdown",
   "id": "48a6d161",
   "metadata": {},
   "source": [
    "We assume the following model:\n",
    "\n",
    "\\begin{align}\n",
    "Z_u^\\rho &\\sim \\mathcal{N}(0, \\sigma_u^\\rho)\\\\\n",
    "Z_w^\\rho &\\sim \\mathcal{N}(0, \\sigma_w^\\rho) \\\\\n",
    "Z_{u, w}^\\rho &= \\mu^\\rho + Z_u^\\rho + Z_w^\\rho \\\\\n",
    "\\end{align}\n",
    "where $Z_u^{\\rho}$ is a random variable whose distribution is specific to user $u$ and parameter $\\rho$, and $\\rho \\in {\\alpha, \\beta}$.\n",
    "\n",
    "The probability of recall for user $u$ and item/word $w$ at time $t$ is defined as:\n",
    "\\begin{align}\n",
    "p(\\omega = 1 \\mid t, u, w) &= e^{-Z_{u, w}^\\alpha (1-Z_{u, w}^\\beta)^n \\delta_{u, w}^t}  \\\\\n",
    "\\end{align}\n",
    "where $\\delta_{u, w}^t$ is the time elapsed since the last presentation for user $u$, item $w$ at time $t$.\n"
   ]
  },
  {
   "cell_type": "markdown",
   "id": "cab222b3",
   "metadata": {},
   "source": [
    "# Run on experimental data"
   ]
  },
  {
   "cell_type": "code",
   "execution_count": 3,
   "id": "26d78a33",
   "metadata": {},
   "outputs": [
    {
     "name": "stdout",
     "output_type": "stream",
     "text": [
      "Number of user 53\n",
      "Number of items 1998\n",
      "Total number of observations (excluding first presentation) 70618\n",
      "Minimum number of observation for a single user 1285\n",
      "Maximum number of observation for a single user 1404\n"
     ]
    }
   ],
   "source": [
    "data = get_experimental_data()"
   ]
  },
  {
   "cell_type": "code",
   "execution_count": null,
   "id": "3c43b897",
   "metadata": {},
   "outputs": [
    {
     "name": "stderr",
     "output_type": "stream",
     "text": [
      "  5%|█▍                        | 265/5000 [00:29<08:43,  9.04it/s, loss=5.11e+4]"
     ]
    }
   ],
   "source": [
    "z_flow, theta_flow, hist_loss = train(\n",
    "    data,\n",
    "    n_sample=40,\n",
    "    epochs=5000)"
   ]
  },
  {
   "cell_type": "code",
   "execution_count": null,
   "id": "fe4d47f1",
   "metadata": {},
   "outputs": [],
   "source": [
    "run_name = \"exp_data\""
   ]
  },
  {
   "cell_type": "code",
   "execution_count": null,
   "id": "b9211e89",
   "metadata": {},
   "outputs": [],
   "source": [
    "plot_loss(hist_loss, name=run_name)"
   ]
  },
  {
   "cell_type": "code",
   "execution_count": null,
   "id": "2e0e3f69",
   "metadata": {},
   "outputs": [],
   "source": [
    "plot_posterior(theta_flow, name=run_name)"
   ]
  },
  {
   "cell_type": "code",
   "execution_count": null,
   "id": "948cd5d3",
   "metadata": {},
   "outputs": [],
   "source": [
    "z_flow.save(run_name)\n",
    "theta_flow.save(run_name)"
   ]
  },
  {
   "cell_type": "code",
   "execution_count": null,
   "id": "4d11ff11",
   "metadata": {},
   "outputs": [],
   "source": [
    "batch_size = 100000\n",
    "\n",
    "z0_θ = theta_flow.sample_base_dist(batch_size)\n",
    "zk_θ, base_dist_logprob_θ, log_det_θ = theta_flow(z0_θ)\n",
    "\n",
    "mu1, log_var_u1, log_var_w1 = zk_θ.data[:, :3].T\n",
    "mu2, log_var_u2, log_var_w2 = zk_θ.data[:, 3:].T"
   ]
  },
  {
   "cell_type": "code",
   "execution_count": null,
   "id": "efd47ded",
   "metadata": {},
   "outputs": [],
   "source": [
    "unconstrained = {\n",
    "    \"mu1\": mu1.mean().item(), \n",
    "    \"sigma_u1\": np.exp(0.5*log_var_u1.mean().item()), \n",
    "    \"sigma_w1\": np.exp(0.5*log_var_w1.mean().item()),\n",
    "    \"mu2\": mu2.mean().item(), \n",
    "    \"sigma_u2\": np.exp(0.5*log_var_u2.mean().item()),\n",
    "    \"sigma_w2\": np.exp(0.5*log_var_w2.mean().item())}\n",
    "\n",
    "df_param = pd.DataFrame([unconstrained, ], index=[\"unconstrained\",])\n",
    "df_param"
   ]
  },
  {
   "cell_type": "code",
   "execution_count": null,
   "id": "02efb77d",
   "metadata": {},
   "outputs": [],
   "source": [
    "df_param.to_csv(os.path.join(\"bkp\", \"param_exp_data.csv\"))"
   ]
  },
  {
   "cell_type": "code",
   "execution_count": null,
   "id": "b89934b9",
   "metadata": {},
   "outputs": [],
   "source": [
    "unc_a = np.random.normal(df_param.loc[\"unconstrained\", \"mu1\"], df_param.loc[\"unconstrained\", \"sigma_u1\"], size=1000)"
   ]
  }
 ],
 "metadata": {
  "kernelspec": {
   "display_name": "Python 3 (ipykernel)",
   "language": "python",
   "name": "python3"
  },
  "language_info": {
   "codemirror_mode": {
    "name": "ipython",
    "version": 3
   },
   "file_extension": ".py",
   "mimetype": "text/x-python",
   "name": "python",
   "nbconvert_exporter": "python",
   "pygments_lexer": "ipython3",
   "version": "3.9.10"
  },
  "toc": {
   "base_numbering": 1,
   "nav_menu": {},
   "number_sections": true,
   "sideBar": true,
   "skip_h1_title": false,
   "title_cell": "Table of Contents",
   "title_sidebar": "Contents",
   "toc_cell": false,
   "toc_position": {},
   "toc_section_display": true,
   "toc_window_display": true
  }
 },
 "nbformat": 4,
 "nbformat_minor": 5
}
