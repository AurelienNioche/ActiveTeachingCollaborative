{
 "cells": [
  {
   "cell_type": "markdown",
   "source": [
    "We assume the following model:\n",
    "\n",
    "\\begin{align}\n",
    "Z_u^\\rho &\\sim \\mathcal{N}(0, \\sigma_u^\\rho)\\\\\n",
    "Z_w^\\rho &\\sim \\mathcal{N}(0, \\sigma_w^\\rho)\\\\\n",
    "Z_{u, w}^\\rho &= \\mu^\\rho + Z_u^\\rho + Z_w^\\rho \\\\\n",
    "\\end{align}\n",
    "where $Z_u^{\\rho}$ is a random variable whose distribution is specific to user $u$ and parameter $\\rho$, and $\\rho \\in {\\alpha, \\beta}$.\n",
    "\n",
    "The probability of recall for user $u$ and item/word $w$ at time $t$ is defined as:\n",
    "\\begin{align}\n",
    "p(\\omega = 1 \\mid t, u, w) &= e^{-Z_{u, w}^\\alpha (1-Z_{u, w}^\\beta)^n \\delta_{u, w}^t}  \\\\\n",
    "\\end{align}\n",
    "where $\\delta_{u, w}^t$ is the time elapsed since the last presentation for user $u$, item $w$ at time $t$."
   ],
   "metadata": {
    "collapsed": false,
    "pycharm": {
     "name": "#%% md\n"
    }
   }
  },
  {
   "cell_type": "code",
   "execution_count": null,
   "outputs": [],
   "source": [],
   "metadata": {
    "collapsed": false,
    "pycharm": {
     "name": "#%%\n"
    }
   }
  }
 ],
 "metadata": {
  "kernelspec": {
   "display_name": "Python 3",
   "language": "python",
   "name": "python3"
  },
  "language_info": {
   "codemirror_mode": {
    "name": "ipython",
    "version": 2
   },
   "file_extension": ".py",
   "mimetype": "text/x-python",
   "name": "python",
   "nbconvert_exporter": "python",
   "pygments_lexer": "ipython2",
   "version": "2.7.6"
  }
 },
 "nbformat": 4,
 "nbformat_minor": 0
}