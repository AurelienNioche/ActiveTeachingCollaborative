{
 "cells": [
  {
   "cell_type": "code",
   "execution_count": 85,
   "id": "imperial-criminal",
   "metadata": {},
   "outputs": [],
   "source": [
    "import numpy as np\n",
    "import arviz as az\n",
    "import matplotlib.pyplot as plt\n",
    "import multiprocessing as mp\n",
    "import pandas as pd\n",
    "import seaborn as sns\n",
    "import numpyro as npr\n",
    "import numpyro.distributions as dist\n",
    "from numpyro.infer import MCMC, NUTS, SVI, Trace_ELBO\n",
    "from numpyro.optim import Adam\n",
    "from numpyro.infer.reparam import TransformReparam\n",
    "from numpyro.distributions import constraints\n",
    "from jax import random\n",
    "import jax.numpy as jnp\n",
    "import jax.scipy.special as jss\n",
    "\n",
    "%matplotlib inline\n",
    "%config InlineBackend.figure_format = 'retina'\n",
    "\n",
    "sns.set()\n",
    "npr.set_host_device_count(mp.cpu_count())"
   ]
  },
  {
   "cell_type": "markdown",
   "id": "caroline-poster",
   "metadata": {},
   "source": [
    "# From the doc"
   ]
  },
  {
   "cell_type": "code",
   "execution_count": 93,
   "id": "physical-vietnam",
   "metadata": {},
   "outputs": [],
   "source": [
    "def model(data):\n",
    "    # define the hyperparameters that control the beta prior\n",
    "    alpha0 = 10.0\n",
    "    beta0 = 10.0\n",
    "    # sample f from the beta prior\n",
    "    f = npr.sample(\"latent_fairness\", dist.Beta(alpha0, beta0))\n",
    "    # loop over the observed data\n",
    "    for i in range(len(data)):\n",
    "        # observe datapoint i using the bernoulli\n",
    "        # likelihood Bernoulli(f)\n",
    "        npr.sample(\"obs_{}\".format(i), dist.Bernoulli(f), obs=data[i])"
   ]
  },
  {
   "cell_type": "code",
   "execution_count": 94,
   "id": "understanding-lease",
   "metadata": {},
   "outputs": [],
   "source": [
    "def guide(data):\n",
    "    # register the two variational parameters with Pyro.\n",
    "    alpha_q = npr.param(\"alpha_q\", 10.0,\n",
    "                        constraint=constraints.positive)\n",
    "    beta_q = npr.param(\"beta_q\", 10.0,\n",
    "                       constraint=constraints.positive)\n",
    "    # sample latent_fairness from the distribution Beta(alpha_q, beta_q)\n",
    "    npr.sample(\"latent_fairness\", dist.Beta(alpha_q, beta_q))"
   ]
  },
  {
   "cell_type": "code",
   "execution_count": 95,
   "id": "intense-forest",
   "metadata": {},
   "outputs": [],
   "source": [
    "# create some data with 6 observed heads and 4 observed tails\n",
    "data = jnp.concatenate([jnp.ones(6), jnp.zeros(4)])"
   ]
  },
  {
   "cell_type": "code",
   "execution_count": 96,
   "id": "laughing-stomach",
   "metadata": {},
   "outputs": [
    {
     "name": "stderr",
     "output_type": "stream",
     "text": [
      "100%|██████████| 5000/5000 [00:05<00:00, 920.39it/s, init loss: 6.7353, avg. loss [4751-5000]: 7.0861] \n"
     ]
    }
   ],
   "source": [
    "# set up the optimizer\n",
    "optimizer = Adam(step_size=0.0005)\n",
    "\n",
    "# setup the inference algorithm\n",
    "svi = SVI(model, guide, optimizer, loss=Trace_ELBO())\n",
    "\n",
    "svi_result = svi.run(random.PRNGKey(0), 5000, data)"
   ]
  },
  {
   "cell_type": "code",
   "execution_count": 97,
   "id": "delayed-germany",
   "metadata": {},
   "outputs": [
    {
     "data": {
      "text/plain": [
       "{'alpha_q': DeviceArray(11.5468235, dtype=float32),\n",
       " 'beta_q': DeviceArray(10.174291, dtype=float32)}"
      ]
     },
     "execution_count": 97,
     "metadata": {},
     "output_type": "execute_result"
    }
   ],
   "source": [
    "params = svi_result.params\n",
    "params"
   ]
  },
  {
   "cell_type": "code",
   "execution_count": 98,
   "id": "ready-makeup",
   "metadata": {},
   "outputs": [
    {
     "data": {
      "text/plain": [
       "DeviceArray(0.5315944, dtype=float32)"
      ]
     },
     "execution_count": 98,
     "metadata": {},
     "output_type": "execute_result"
    }
   ],
   "source": [
    "params[\"alpha_q\"] / (params[\"alpha_q\"] + params[\"beta_q\"])"
   ]
  },
  {
   "cell_type": "code",
   "execution_count": null,
   "id": "electric-miami",
   "metadata": {},
   "outputs": [],
   "source": []
  }
 ],
 "metadata": {
  "kernelspec": {
   "display_name": "Python 3",
   "language": "python",
   "name": "python3"
  },
  "language_info": {
   "codemirror_mode": {
    "name": "ipython",
    "version": 3
   },
   "file_extension": ".py",
   "mimetype": "text/x-python",
   "name": "python",
   "nbconvert_exporter": "python",
   "pygments_lexer": "ipython3",
   "version": "3.9.1"
  },
  "toc": {
   "base_numbering": 1,
   "nav_menu": {},
   "number_sections": true,
   "sideBar": true,
   "skip_h1_title": false,
   "title_cell": "Table of Contents",
   "title_sidebar": "Contents",
   "toc_cell": false,
   "toc_position": {},
   "toc_section_display": true,
   "toc_window_display": false
  }
 },
 "nbformat": 4,
 "nbformat_minor": 5
}
