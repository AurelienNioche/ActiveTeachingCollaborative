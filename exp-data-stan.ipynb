{
 "cells": [
  {
   "cell_type": "code",
   "execution_count": 98,
   "id": "seasonal-inquiry",
   "metadata": {},
   "outputs": [],
   "source": [
    "import os\n",
    "import matplotlib.pyplot as plt\n",
    "import seaborn as sns\n",
    "import pandas as pd\n",
    "import numpy as np\n",
    "import scipy\n",
    "from tqdm import tqdm\n",
    "import arviz as az\n",
    "import cmdstanpy as stan\n",
    "from scipy.special import expit"
   ]
  },
  {
   "cell_type": "code",
   "execution_count": 44,
   "id": "statewide-swift",
   "metadata": {},
   "outputs": [],
   "source": [
    "%load_ext stanmagic"
   ]
  },
  {
   "cell_type": "code",
   "execution_count": 45,
   "id": "incomplete-religion",
   "metadata": {},
   "outputs": [],
   "source": [
    "%matplotlib inline\n",
    "%config InlineBackend.figure_format = 'retina'\n",
    "sns.set() "
   ]
  },
  {
   "cell_type": "markdown",
   "id": "raising-customer",
   "metadata": {},
   "source": [
    "# Import data"
   ]
  },
  {
   "cell_type": "code",
   "execution_count": 27,
   "id": "canadian-serve",
   "metadata": {},
   "outputs": [
    {
     "data": {
      "text/html": [
       "<div>\n",
       "<style scoped>\n",
       "    .dataframe tbody tr th:only-of-type {\n",
       "        vertical-align: middle;\n",
       "    }\n",
       "\n",
       "    .dataframe tbody tr th {\n",
       "        vertical-align: top;\n",
       "    }\n",
       "\n",
       "    .dataframe thead th {\n",
       "        text-align: right;\n",
       "    }\n",
       "</style>\n",
       "<table border=\"1\" class=\"dataframe\">\n",
       "  <thead>\n",
       "    <tr style=\"text-align: right;\">\n",
       "      <th></th>\n",
       "      <th>user</th>\n",
       "      <th>domain</th>\n",
       "      <th>condition</th>\n",
       "      <th>item</th>\n",
       "      <th>success</th>\n",
       "      <th>teacher_md</th>\n",
       "      <th>learner_md</th>\n",
       "      <th>psy_md</th>\n",
       "      <th>session</th>\n",
       "      <th>is_eval</th>\n",
       "      <th>ts_display</th>\n",
       "      <th>ts_reply</th>\n",
       "      <th>n_session_done</th>\n",
       "    </tr>\n",
       "  </thead>\n",
       "  <tbody>\n",
       "    <tr>\n",
       "      <th>49739</th>\n",
       "      <td>goldfish@active.fi</td>\n",
       "      <td>active.fi</td>\n",
       "      <td>ThresholdCondition</td>\n",
       "      <td>1506</td>\n",
       "      <td>True</td>\n",
       "      <td>leitner</td>\n",
       "      <td>NaN</td>\n",
       "      <td>grid</td>\n",
       "      <td>1900</td>\n",
       "      <td>False</td>\n",
       "      <td>2020-09-30 17:51:37.666000+00:00</td>\n",
       "      <td>2020-09-30 17:51:41.042000+00:00</td>\n",
       "      <td>14</td>\n",
       "    </tr>\n",
       "    <tr>\n",
       "      <th>49740</th>\n",
       "      <td>goldfish@active.fi</td>\n",
       "      <td>active.fi</td>\n",
       "      <td>ThresholdCondition</td>\n",
       "      <td>190</td>\n",
       "      <td>True</td>\n",
       "      <td>leitner</td>\n",
       "      <td>NaN</td>\n",
       "      <td>grid</td>\n",
       "      <td>1900</td>\n",
       "      <td>False</td>\n",
       "      <td>2020-09-30 17:51:42.081000+00:00</td>\n",
       "      <td>2020-09-30 17:51:43.910000+00:00</td>\n",
       "      <td>14</td>\n",
       "    </tr>\n",
       "    <tr>\n",
       "      <th>49741</th>\n",
       "      <td>goldfish@active.fi</td>\n",
       "      <td>active.fi</td>\n",
       "      <td>ThresholdCondition</td>\n",
       "      <td>1000</td>\n",
       "      <td>True</td>\n",
       "      <td>leitner</td>\n",
       "      <td>NaN</td>\n",
       "      <td>grid</td>\n",
       "      <td>1900</td>\n",
       "      <td>False</td>\n",
       "      <td>2020-09-30 17:51:44.980000+00:00</td>\n",
       "      <td>2020-09-30 17:51:46.413000+00:00</td>\n",
       "      <td>14</td>\n",
       "    </tr>\n",
       "    <tr>\n",
       "      <th>49742</th>\n",
       "      <td>goldfish@active.fi</td>\n",
       "      <td>active.fi</td>\n",
       "      <td>ThresholdCondition</td>\n",
       "      <td>1506</td>\n",
       "      <td>True</td>\n",
       "      <td>leitner</td>\n",
       "      <td>NaN</td>\n",
       "      <td>grid</td>\n",
       "      <td>1900</td>\n",
       "      <td>False</td>\n",
       "      <td>2020-09-30 17:51:47.476000+00:00</td>\n",
       "      <td>2020-09-30 17:51:50.206000+00:00</td>\n",
       "      <td>14</td>\n",
       "    </tr>\n",
       "    <tr>\n",
       "      <th>49743</th>\n",
       "      <td>goldfish@active.fi</td>\n",
       "      <td>active.fi</td>\n",
       "      <td>ThresholdCondition</td>\n",
       "      <td>190</td>\n",
       "      <td>True</td>\n",
       "      <td>leitner</td>\n",
       "      <td>NaN</td>\n",
       "      <td>grid</td>\n",
       "      <td>1900</td>\n",
       "      <td>False</td>\n",
       "      <td>2020-09-30 17:51:51.245000+00:00</td>\n",
       "      <td>2020-09-30 17:51:53.477000+00:00</td>\n",
       "      <td>14</td>\n",
       "    </tr>\n",
       "    <tr>\n",
       "      <th>...</th>\n",
       "      <td>...</td>\n",
       "      <td>...</td>\n",
       "      <td>...</td>\n",
       "      <td>...</td>\n",
       "      <td>...</td>\n",
       "      <td>...</td>\n",
       "      <td>...</td>\n",
       "      <td>...</td>\n",
       "      <td>...</td>\n",
       "      <td>...</td>\n",
       "      <td>...</td>\n",
       "      <td>...</td>\n",
       "      <td>...</td>\n",
       "    </tr>\n",
       "    <tr>\n",
       "      <th>147617</th>\n",
       "      <td>azalea@active.fi</td>\n",
       "      <td>active.fi</td>\n",
       "      <td>ThresholdCondition</td>\n",
       "      <td>179</td>\n",
       "      <td>True</td>\n",
       "      <td>threshold</td>\n",
       "      <td>exp_decay</td>\n",
       "      <td>grid</td>\n",
       "      <td>2571</td>\n",
       "      <td>True</td>\n",
       "      <td>2020-10-08 05:52:21.524000+00:00</td>\n",
       "      <td>2020-10-08 05:52:31.640000+00:00</td>\n",
       "      <td>14</td>\n",
       "    </tr>\n",
       "    <tr>\n",
       "      <th>147618</th>\n",
       "      <td>azalea@active.fi</td>\n",
       "      <td>active.fi</td>\n",
       "      <td>ThresholdCondition</td>\n",
       "      <td>1071</td>\n",
       "      <td>False</td>\n",
       "      <td>threshold</td>\n",
       "      <td>exp_decay</td>\n",
       "      <td>grid</td>\n",
       "      <td>2571</td>\n",
       "      <td>True</td>\n",
       "      <td>2020-10-08 05:52:32.658000+00:00</td>\n",
       "      <td>2020-10-08 05:52:45.959000+00:00</td>\n",
       "      <td>14</td>\n",
       "    </tr>\n",
       "    <tr>\n",
       "      <th>147619</th>\n",
       "      <td>azalea@active.fi</td>\n",
       "      <td>active.fi</td>\n",
       "      <td>ThresholdCondition</td>\n",
       "      <td>1196</td>\n",
       "      <td>True</td>\n",
       "      <td>threshold</td>\n",
       "      <td>exp_decay</td>\n",
       "      <td>grid</td>\n",
       "      <td>2571</td>\n",
       "      <td>True</td>\n",
       "      <td>2020-10-08 05:52:48.143000+00:00</td>\n",
       "      <td>2020-10-08 05:52:51.527000+00:00</td>\n",
       "      <td>14</td>\n",
       "    </tr>\n",
       "    <tr>\n",
       "      <th>147620</th>\n",
       "      <td>azalea@active.fi</td>\n",
       "      <td>active.fi</td>\n",
       "      <td>ThresholdCondition</td>\n",
       "      <td>1282</td>\n",
       "      <td>True</td>\n",
       "      <td>threshold</td>\n",
       "      <td>exp_decay</td>\n",
       "      <td>grid</td>\n",
       "      <td>2571</td>\n",
       "      <td>True</td>\n",
       "      <td>2020-10-08 05:52:52.543000+00:00</td>\n",
       "      <td>2020-10-08 05:52:56.460000+00:00</td>\n",
       "      <td>14</td>\n",
       "    </tr>\n",
       "    <tr>\n",
       "      <th>147621</th>\n",
       "      <td>azalea@active.fi</td>\n",
       "      <td>active.fi</td>\n",
       "      <td>ThresholdCondition</td>\n",
       "      <td>1375</td>\n",
       "      <td>True</td>\n",
       "      <td>threshold</td>\n",
       "      <td>exp_decay</td>\n",
       "      <td>grid</td>\n",
       "      <td>2571</td>\n",
       "      <td>True</td>\n",
       "      <td>2020-10-08 05:52:57.477000+00:00</td>\n",
       "      <td>2020-10-08 05:53:02.977000+00:00</td>\n",
       "      <td>14</td>\n",
       "    </tr>\n",
       "  </tbody>\n",
       "</table>\n",
       "<p>77636 rows × 13 columns</p>\n",
       "</div>"
      ],
      "text/plain": [
       "                      user     domain           condition  item success  \\\n",
       "49739   goldfish@active.fi  active.fi  ThresholdCondition  1506    True   \n",
       "49740   goldfish@active.fi  active.fi  ThresholdCondition   190    True   \n",
       "49741   goldfish@active.fi  active.fi  ThresholdCondition  1000    True   \n",
       "49742   goldfish@active.fi  active.fi  ThresholdCondition  1506    True   \n",
       "49743   goldfish@active.fi  active.fi  ThresholdCondition   190    True   \n",
       "...                    ...        ...                 ...   ...     ...   \n",
       "147617    azalea@active.fi  active.fi  ThresholdCondition   179    True   \n",
       "147618    azalea@active.fi  active.fi  ThresholdCondition  1071   False   \n",
       "147619    azalea@active.fi  active.fi  ThresholdCondition  1196    True   \n",
       "147620    azalea@active.fi  active.fi  ThresholdCondition  1282    True   \n",
       "147621    azalea@active.fi  active.fi  ThresholdCondition  1375    True   \n",
       "\n",
       "       teacher_md learner_md psy_md  session  is_eval  \\\n",
       "49739     leitner        NaN   grid     1900    False   \n",
       "49740     leitner        NaN   grid     1900    False   \n",
       "49741     leitner        NaN   grid     1900    False   \n",
       "49742     leitner        NaN   grid     1900    False   \n",
       "49743     leitner        NaN   grid     1900    False   \n",
       "...           ...        ...    ...      ...      ...   \n",
       "147617  threshold  exp_decay   grid     2571     True   \n",
       "147618  threshold  exp_decay   grid     2571     True   \n",
       "147619  threshold  exp_decay   grid     2571     True   \n",
       "147620  threshold  exp_decay   grid     2571     True   \n",
       "147621  threshold  exp_decay   grid     2571     True   \n",
       "\n",
       "                              ts_display                          ts_reply  \\\n",
       "49739   2020-09-30 17:51:37.666000+00:00  2020-09-30 17:51:41.042000+00:00   \n",
       "49740   2020-09-30 17:51:42.081000+00:00  2020-09-30 17:51:43.910000+00:00   \n",
       "49741   2020-09-30 17:51:44.980000+00:00  2020-09-30 17:51:46.413000+00:00   \n",
       "49742   2020-09-30 17:51:47.476000+00:00  2020-09-30 17:51:50.206000+00:00   \n",
       "49743   2020-09-30 17:51:51.245000+00:00  2020-09-30 17:51:53.477000+00:00   \n",
       "...                                  ...                               ...   \n",
       "147617  2020-10-08 05:52:21.524000+00:00  2020-10-08 05:52:31.640000+00:00   \n",
       "147618  2020-10-08 05:52:32.658000+00:00  2020-10-08 05:52:45.959000+00:00   \n",
       "147619  2020-10-08 05:52:48.143000+00:00  2020-10-08 05:52:51.527000+00:00   \n",
       "147620  2020-10-08 05:52:52.543000+00:00  2020-10-08 05:52:56.460000+00:00   \n",
       "147621  2020-10-08 05:52:57.477000+00:00  2020-10-08 05:53:02.977000+00:00   \n",
       "\n",
       "        n_session_done  \n",
       "49739               14  \n",
       "49740               14  \n",
       "49741               14  \n",
       "49742               14  \n",
       "49743               14  \n",
       "...                ...  \n",
       "147617              14  \n",
       "147618              14  \n",
       "147619              14  \n",
       "147620              14  \n",
       "147621              14  \n",
       "\n",
       "[77636 rows x 13 columns]"
      ]
     },
     "execution_count": 27,
     "metadata": {},
     "output_type": "execute_result"
    }
   ],
   "source": [
    "df = pd.read_csv(\"data_full.csv\", index_col=0)\n",
    "df.drop(df[(df.domain != \"active.fi\") | (df.n_session_done != 14)].index, inplace=True)\n",
    "df"
   ]
  },
  {
   "cell_type": "code",
   "execution_count": 28,
   "id": "freelance-disposition",
   "metadata": {},
   "outputs": [],
   "source": [
    "df[\"ts_display\"] = pd.to_datetime(df[\"ts_display\"])  # str to datetime\n",
    "df[\"ts_reply\"] = pd.to_datetime(df[\"ts_reply\"]) "
   ]
  },
  {
   "cell_type": "code",
   "execution_count": 29,
   "id": "temporal-lincoln",
   "metadata": {},
   "outputs": [],
   "source": [
    "# Convert timestamps into seconds\n",
    "beginning_history = pd.Timestamp(\"1970-01-01\", tz=\"UTC\")\n",
    "df[\"timestamp\"] = (df[\"ts_reply\"] - beginning_history).dt.total_seconds().values"
   ]
  },
  {
   "cell_type": "code",
   "execution_count": 30,
   "id": "unauthorized-minutes",
   "metadata": {},
   "outputs": [
    {
     "name": "stdout",
     "output_type": "stream",
     "text": [
      "n_u=53, n_w=1998\n"
     ]
    }
   ],
   "source": [
    "n_u = len(df.user.unique())\n",
    "n_w = len(df.item.unique())\n",
    "print(f\"n_u={n_u}, n_w={n_w}\" )"
   ]
  },
  {
   "cell_type": "code",
   "execution_count": 31,
   "id": "elementary-anthropology",
   "metadata": {},
   "outputs": [],
   "source": [
    "# Copy actual item ID\n",
    "df[\"item_id\"] = df.item"
   ]
  },
  {
   "cell_type": "code",
   "execution_count": 32,
   "id": "behavioral-fighter",
   "metadata": {},
   "outputs": [],
   "source": [
    "for i, i_id in enumerate(df.item_id.unique()): \n",
    "    df.loc[df.item_id == i_id, 'item'] = i"
   ]
  },
  {
   "cell_type": "code",
   "execution_count": 33,
   "id": "static-wedding",
   "metadata": {},
   "outputs": [
    {
     "name": "stdout",
     "output_type": "stream",
     "text": [
      "0\n",
      "1997\n"
     ]
    }
   ],
   "source": [
    "print(df.item.min())\n",
    "print(df.item.max())"
   ]
  },
  {
   "cell_type": "code",
   "execution_count": 39,
   "id": "superior-weekly",
   "metadata": {},
   "outputs": [
    {
     "name": "stdout",
     "output_type": "stream",
     "text": [
      "n_o=1404\n",
      "min n_o=1285\n"
     ]
    }
   ],
   "source": [
    "n_o_by_u = np.zeros(shape=n_u, dtype=int)\n",
    "for u, (user, user_df) in enumerate(df.groupby(\"user\")):\n",
    "    n_o_by_u[u] = len(user_df) - len(user_df.item.unique())\n",
    "n_o = n_o_by_u.max()\n",
    "print( f\"n_o={n_o}\")\n",
    "print(f\"min n_o={n_o_by_u.min()}\")"
   ]
  },
  {
   "cell_type": "code",
   "execution_count": 123,
   "id": "noted-verification",
   "metadata": {},
   "outputs": [],
   "source": [
    "words = np.zeros(shape=(n_u, n_o), dtype=int)\n",
    "delta = np.zeros(shape=(n_u, n_o))\n",
    "n_rep = np.zeros(shape=(n_u, n_o), dtype=int)\n",
    "y = np.zeros(shape=(n_u, n_o), dtype=int)\n",
    "\n",
    "for u, (user, user_df) in enumerate(df.groupby(\"user\")):\n",
    "    \n",
    "    user_df = user_df.sort_values(by=\"timestamp\")\n",
    "    seen = user_df.item.unique()\n",
    "    words_u = user_df.item.values\n",
    "    ts_u = user_df.timestamp.values\n",
    "    counts = {word: -1 for word in seen}\n",
    "    last_pres = {word: None for word in seen}\n",
    "    n_rep_u = np.zeros(len(user_df))\n",
    "    delta_u = np.zeros(n_rep_u.shape)\n",
    "    for i, word in enumerate(words_u):\n",
    "        ts = ts_u[i]\n",
    "        n_rep_u[i] = counts[word]\n",
    "        if last_pres[word] is not None:\n",
    "            delta_u[i] =  ts - last_pres[word]\n",
    "        counts[word] += 1\n",
    "        last_pres[word] = ts\n",
    "    \n",
    "    to_keep = n_rep_u >= 0\n",
    "    y_u = user_df.success.values[to_keep]\n",
    "    n_rep_u = n_rep_u[to_keep]\n",
    "    words_u = words_u[to_keep]\n",
    "    delta_u = delta_u[to_keep]\n",
    "    \n",
    "    n_ou = n_o_by_u[u]\n",
    "    n_rep[u, :n_ou] = n_rep_u\n",
    "    words[u, :n_ou] = words_u\n",
    "    delta[u, :n_ou] = delta_u\n",
    "    y[u, :n_ou] = y_u\n",
    "\n",
    "data = {'n_u': int(n_u), 'n_w': int(n_w),  'n_o': int(n_o), \n",
    "        'delta': delta, \n",
    "        'n_rep': n_rep, 'y': y, \n",
    "        'n_o_by_u': n_o_by_u,\n",
    "        'words': words + 1} # Stan index starts from 1"
   ]
  },
  {
   "cell_type": "code",
   "execution_count": 118,
   "id": "gross-blogger",
   "metadata": {},
   "outputs": [],
   "source": [
    "def objective(param):\n",
    "    words -= 1\n",
    "    \n",
    "    sum_ll = 0\n",
    "    \n",
    "    sg_w1, sg_u1, sg_theta1, sg_theta2, mu1, mu2, sg_w2, sg_u2 = param\n",
    "    U1 = np.random.normal(0, sg_u1, size=n_u)\n",
    "    W1 = np.random.normal(0, sg_w1, size=n_w)\n",
    "    U2 = np.random.normal(0, sg_u2, size=n_u)\n",
    "    W2 = np.random.normal(0, sg_w2, size=n_w)\n",
    "\n",
    "    for u in range(n_u):\n",
    "        n_ou = n_o_by_u[u];\n",
    "        words_u = words[u, :n_ou];\n",
    "        mu1_u = mu1 + U1[u] + W1[words_u]\n",
    "        mu2_u = mu2 + U2[u] + W2[words_u]\n",
    "        theta1_wu = np.random.normal(mu1_u, sg_theta1, size=n_ou)\n",
    "        theta2_wu = np.random.normal(mu2_u, sg_theta2, size=n_ou)\n",
    "        a = np.exp(theta1_wu)\n",
    "        b = expit(theta2_wu)\n",
    "        n_rep_arr = n_rep[u, :n_ou]\n",
    "        delta_arr = delta[u, :n_ou]\n",
    "        y_arr = y[u, :n_ou]\n",
    "        exponent = - a * np.power(1-b, n_rep_arr) * delta_arr\n",
    "        p_suc = np.exp(exponent)\n",
    "        p = np.power(p_suc, y_arr) * np.power(1-p_suc, 1-y_arr)\n",
    "        log_p = np.log(p + np.finfo(float).eps)\n",
    "        sum_ll += log_p.sum()\n",
    "    \n",
    "    return - sum_ll"
   ]
  },
  {
   "cell_type": "code",
   "execution_count": 119,
   "id": "innocent-racing",
   "metadata": {},
   "outputs": [
    {
     "data": {
      "text/plain": [
       "      fun: 2117878.069156808\n",
       " hess_inv: <8x8 LbfgsInvHessProduct with dtype=float64>\n",
       "      jac: array([ 2.84296240e+11, -1.95367333e+11,  4.01290098e+11,  7.15525102e+10,\n",
       "        3.45141176e+11, -5.09637810e+10,  1.37297387e+11, -6.77866407e+10])\n",
       "  message: 'CONVERGENCE: REL_REDUCTION_OF_F_<=_FACTR*EPSMCH'\n",
       "     nfev: 261\n",
       "      nit: 3\n",
       "     njev: 29\n",
       "   status: 0\n",
       "  success: True\n",
       "        x: array([ 1.00000000e-01,  1.00000000e-01,  1.00000000e-01,  1.00000000e-01,\n",
       "        8.04231416e-10, -7.66401150e-09,  1.00000000e-01,  1.00000004e-01])"
      ]
     },
     "execution_count": 119,
     "metadata": {},
     "output_type": "execute_result"
    }
   ],
   "source": [
    "# Define bounds and an initial guess\n",
    "bounds = [(0, None), (0, None), (0, None), (0, None), \n",
    "          (None, None), (None, None), (0, None), (0, None)]\n",
    "init_guess = (0.1, 0.1, 0.1, 0.1, 0, 0, 0.1, 0.1)\n",
    "\n",
    "# Run the optimizer\n",
    "res = scipy.optimize.minimize(\n",
    "    fun=objective,\n",
    "    x0=init_guess,\n",
    "    bounds=bounds)\n",
    "res"
   ]
  },
  {
   "cell_type": "markdown",
   "id": "growing-scheme",
   "metadata": {},
   "source": [
    "# Model"
   ]
  },
  {
   "cell_type": "code",
   "execution_count": 120,
   "id": "greatest-crown",
   "metadata": {},
   "outputs": [
    {
     "name": "stdout",
     "output_type": "stream",
     "text": [
      "Using stanc compiler:  ~/.cmdstan/cmdstan-2.26.1/bin/stanc\n",
      "~/.cmdstan/cmdstan-2.26.1/bin/stanc --o=/var/folders/yg/spp3n_c56vxbgvjy9wthwy_h0000gn/T/751ede1b-444b-4702-ac6d-b70861c9e723.cpp modelXPdata.stan\n",
      "\n",
      "-------------------------------------------------------------------------------\n",
      "Model compiled successfully. Output stored in model object.\n",
      "Type model in a cell to see a nicely formatted code output in a notebook\n",
      "     ^^^^^\n",
      "Access model compile output properties\n",
      "model.model_file -> Name of stan_file [modelXPdata.stan]\n",
      "model.model_name -> Name of stan model [modelXPdata_model]\n",
      "model.model_code -> Model code [data {   int<lower=0 ....]\n"
     ]
    }
   ],
   "source": [
    "%%stan -f modelXPdata.stan -v model --stanc ~/.cmdstan/cmdstan-2.26.1/bin/stanc\n",
    "data {\n",
    "  int<lower=0> n_u;    \n",
    "  int<lower=0> n_w;  \n",
    "  int<lower=0> n_o;  \n",
    "  real delta[n_u, n_o];\n",
    "  int n_rep[n_u, n_o];\n",
    "  int y[n_u, n_o];\n",
    "  int words[n_u, n_o];\n",
    "  int n_o_by_u[n_u];\n",
    "}\n",
    "transformed data {\n",
    "}\n",
    "parameters {\n",
    "  real<lower=0> sg_u1;\n",
    "  real<lower=0> sg_w1;\n",
    "  real<lower=0> sg_theta1;\n",
    "  real mu1;\n",
    "  real<lower=0> sg_u2;\n",
    "  real<lower=0> sg_w2;\n",
    "  real<lower=0> sg_theta2;\n",
    "  real mu2;\n",
    "  \n",
    "  real U1[n_u];\n",
    "  real W1[n_w];\n",
    "  real theta1_wu[n_u, n_o];\n",
    "  real U2[n_u];\n",
    "  real W2[n_w];\n",
    "  real theta2_wu[n_u, n_o];\n",
    "}\n",
    "model {\n",
    "  int n_ou;\n",
    "  \n",
    "  sg_w1 ~ inv_gamma(1, 1);\n",
    "  sg_u1 ~ inv_gamma(1, 1);\n",
    "  sg_theta1 ~ inv_gamma(1, 1);\n",
    "  mu1 ~ normal(0, 10);\n",
    "  U1 ~ normal(0, sg_u1);\n",
    "  W1 ~ normal(0, sg_w1);\n",
    "  \n",
    "  sg_w2 ~ inv_gamma(1, 1);\n",
    "  sg_u2 ~ inv_gamma(1, 1);\n",
    "  sg_theta2 ~ inv_gamma(1, 1);\n",
    "  mu2 ~ normal(0, 10);\n",
    "  U2 ~ normal(0, sg_u2);\n",
    "  W2 ~ normal(0, sg_w2);\n",
    "\n",
    "  for (u in 1:n_u) {\n",
    "    n_ou = n_o_by_u[u];\n",
    "    vector[n_ou] a;\n",
    "    vector[n_ou] b;\n",
    "    vector[n_ou] rate;\n",
    "    vector[n_ou] exponent;\n",
    "    vector[n_ou] p;\n",
    "    vector[n_ou] p_suc;\n",
    "    vector[n_ou] log_p;\n",
    "    vector[n_ou] y_arr;\n",
    "    vector[n_ou] delta_arr;\n",
    "    vector[n_ou] n_rep_arr;\n",
    "    vector[n_ou] mu1_u;\n",
    "    vector[n_ou] mu2_u;\n",
    "    int words_u[n_ou];\n",
    "    words_u = words[u, 1:n_ou];\n",
    "    mu1_u = rep_vector(mu1 + U1[u], n_ou) + to_vector(W1[words_u]);\n",
    "    mu2_u = rep_vector(mu2 + U2[u], n_ou) + to_vector(W2[words_u]);\n",
    "    theta1_wu[u, 1:n_ou] ~ normal(mu1_u, sg_theta1);\n",
    "    theta2_wu[u, 1:n_ou] ~ normal(mu2_u, sg_theta2);\n",
    "    a = exp(to_vector(theta1_wu[u, 1:n_ou]));\n",
    "    b = inv_logit(to_vector(theta2_wu[u, 1:n_ou]));\n",
    "    n_rep_arr = to_vector(n_rep[u, 1:n_ou]);\n",
    "    delta_arr = to_vector(delta[u, 1:n_ou]);\n",
    "    y_arr = to_vector(y[u, 1:n_ou]);\n",
    "    exponent = - a .* pow(1-b, n_rep_arr) .* delta_arr;\n",
    "    p_suc = exp(exponent);\n",
    "    p = pow(p_suc, y_arr) .* pow(1-p_suc, 1-y_arr);\n",
    "    log_p = log(p + machine_precision());\n",
    "    target += sum(log_p);\n",
    "  }\n",
    "}"
   ]
  },
  {
   "cell_type": "code",
   "execution_count": 121,
   "id": "macro-microphone",
   "metadata": {
    "scrolled": false
   },
   "outputs": [
    {
     "name": "stderr",
     "output_type": "stream",
     "text": [
      "INFO:cmdstanpy:compiling stan program, exe file: /Users/aureliennioche/Documents/PythonProjects/ActiveTeachingCollaborative/modelXPdata\n",
      "INFO:cmdstanpy:compiler options: stanc_options=None, cpp_options=None\n",
      "INFO:cmdstanpy:compiled model file: /Users/aureliennioche/Documents/PythonProjects/ActiveTeachingCollaborative/modelXPdata\n"
     ]
    }
   ],
   "source": [
    "m = stan.CmdStanModel(stan_file=model.model_file)"
   ]
  },
  {
   "cell_type": "code",
   "execution_count": 125,
   "id": "active-future",
   "metadata": {
    "scrolled": true
   },
   "outputs": [
    {
     "data": {
      "application/vnd.jupyter.widget-view+json": {
       "model_id": "07e2f813f7db472ea983af1b16b6fc0b",
       "version_major": 2,
       "version_minor": 0
      },
      "text/plain": [
       "Chain 1 - warmup:   0%|          | 0/1 [00:00<?, ?it/s]"
      ]
     },
     "metadata": {},
     "output_type": "display_data"
    },
    {
     "data": {
      "application/vnd.jupyter.widget-view+json": {
       "model_id": "8e139e196fb14dc982fe946b993f56e8",
       "version_major": 2,
       "version_minor": 0
      },
      "text/plain": [
       "Chain 2 - warmup:   0%|          | 0/1 [00:00<?, ?it/s]"
      ]
     },
     "metadata": {},
     "output_type": "display_data"
    },
    {
     "data": {
      "application/vnd.jupyter.widget-view+json": {
       "model_id": "4b54cdb673834d35b40d98c754b4089d",
       "version_major": 2,
       "version_minor": 0
      },
      "text/plain": [
       "Chain 3 - warmup:   0%|          | 0/1 [00:00<?, ?it/s]"
      ]
     },
     "metadata": {},
     "output_type": "display_data"
    },
    {
     "data": {
      "application/vnd.jupyter.widget-view+json": {
       "model_id": "49881755e7314f9b8cb92c8609de32c4",
       "version_major": 2,
       "version_minor": 0
      },
      "text/plain": [
       "Chain 4 - warmup:   0%|          | 0/1 [00:00<?, ?it/s]"
      ]
     },
     "metadata": {},
     "output_type": "display_data"
    },
    {
     "ename": "KeyboardInterrupt",
     "evalue": "",
     "output_type": "error",
     "traceback": [
      "\u001b[0;31m---------------------------------------------------------------------------\u001b[0m",
      "\u001b[0;31mKeyboardInterrupt\u001b[0m                         Traceback (most recent call last)",
      "\u001b[0;32m<ipython-input-125-d03865b4cc43>\u001b[0m in \u001b[0;36m<module>\u001b[0;34m\u001b[0m\n\u001b[0;32m----> 1\u001b[0;31m \u001b[0mtrace\u001b[0m \u001b[0;34m=\u001b[0m \u001b[0mm\u001b[0m\u001b[0;34m.\u001b[0m\u001b[0msample\u001b[0m\u001b[0;34m(\u001b[0m\u001b[0mdata\u001b[0m\u001b[0;34m=\u001b[0m\u001b[0mdata\u001b[0m\u001b[0;34m,\u001b[0m \u001b[0mshow_progress\u001b[0m\u001b[0;34m=\u001b[0m\u001b[0;34m\"notebook\"\u001b[0m\u001b[0;34m)\u001b[0m\u001b[0;34m\u001b[0m\u001b[0;34m\u001b[0m\u001b[0m\n\u001b[0m",
      "\u001b[0;32m~/.pyenv/versions/3.9.1/lib/python3.9/site-packages/cmdstanpy/model.py\u001b[0m in \u001b[0;36msample\u001b[0;34m(self, data, chains, parallel_chains, threads_per_chain, seed, chain_ids, inits, iter_warmup, iter_sampling, save_warmup, thin, max_treedepth, metric, step_size, adapt_engaged, adapt_delta, adapt_init_phase, adapt_metric_window, adapt_step_size, fixed_param, output_dir, sig_figs, save_diagnostics, show_progress, validate_csv)\u001b[0m\n\u001b[1;32m    776\u001b[0m                         )\n\u001b[1;32m    777\u001b[0m                         \u001b[0mall_pbars\u001b[0m\u001b[0;34m.\u001b[0m\u001b[0mappend\u001b[0m\u001b[0;34m(\u001b[0m\u001b[0mpbar\u001b[0m\u001b[0;34m)\u001b[0m\u001b[0;34m\u001b[0m\u001b[0;34m\u001b[0m\u001b[0m\n\u001b[0;32m--> 778\u001b[0;31m                     \u001b[0mexecutor\u001b[0m\u001b[0;34m.\u001b[0m\u001b[0msubmit\u001b[0m\u001b[0;34m(\u001b[0m\u001b[0mself\u001b[0m\u001b[0;34m.\u001b[0m\u001b[0m_run_cmdstan\u001b[0m\u001b[0;34m,\u001b[0m \u001b[0mrunset\u001b[0m\u001b[0;34m,\u001b[0m \u001b[0mi\u001b[0m\u001b[0;34m,\u001b[0m \u001b[0mpbar\u001b[0m\u001b[0;34m)\u001b[0m\u001b[0;34m\u001b[0m\u001b[0;34m\u001b[0m\u001b[0m\n\u001b[0m\u001b[1;32m    779\u001b[0m \u001b[0;34m\u001b[0m\u001b[0m\n\u001b[1;32m    780\u001b[0m             \u001b[0;31m# Closing all progress bars\u001b[0m\u001b[0;34m\u001b[0m\u001b[0;34m\u001b[0m\u001b[0;34m\u001b[0m\u001b[0m\n",
      "\u001b[0;32m~/.pyenv/versions/3.9.1/lib/python3.9/concurrent/futures/_base.py\u001b[0m in \u001b[0;36m__exit__\u001b[0;34m(self, exc_type, exc_val, exc_tb)\u001b[0m\n\u001b[1;32m    626\u001b[0m \u001b[0;34m\u001b[0m\u001b[0m\n\u001b[1;32m    627\u001b[0m     \u001b[0;32mdef\u001b[0m \u001b[0m__exit__\u001b[0m\u001b[0;34m(\u001b[0m\u001b[0mself\u001b[0m\u001b[0;34m,\u001b[0m \u001b[0mexc_type\u001b[0m\u001b[0;34m,\u001b[0m \u001b[0mexc_val\u001b[0m\u001b[0;34m,\u001b[0m \u001b[0mexc_tb\u001b[0m\u001b[0;34m)\u001b[0m\u001b[0;34m:\u001b[0m\u001b[0;34m\u001b[0m\u001b[0;34m\u001b[0m\u001b[0m\n\u001b[0;32m--> 628\u001b[0;31m         \u001b[0mself\u001b[0m\u001b[0;34m.\u001b[0m\u001b[0mshutdown\u001b[0m\u001b[0;34m(\u001b[0m\u001b[0mwait\u001b[0m\u001b[0;34m=\u001b[0m\u001b[0;32mTrue\u001b[0m\u001b[0;34m)\u001b[0m\u001b[0;34m\u001b[0m\u001b[0;34m\u001b[0m\u001b[0m\n\u001b[0m\u001b[1;32m    629\u001b[0m         \u001b[0;32mreturn\u001b[0m \u001b[0;32mFalse\u001b[0m\u001b[0;34m\u001b[0m\u001b[0;34m\u001b[0m\u001b[0m\n\u001b[1;32m    630\u001b[0m \u001b[0;34m\u001b[0m\u001b[0m\n",
      "\u001b[0;32m~/.pyenv/versions/3.9.1/lib/python3.9/concurrent/futures/thread.py\u001b[0m in \u001b[0;36mshutdown\u001b[0;34m(self, wait, cancel_futures)\u001b[0m\n\u001b[1;32m    227\u001b[0m         \u001b[0;32mif\u001b[0m \u001b[0mwait\u001b[0m\u001b[0;34m:\u001b[0m\u001b[0;34m\u001b[0m\u001b[0;34m\u001b[0m\u001b[0m\n\u001b[1;32m    228\u001b[0m             \u001b[0;32mfor\u001b[0m \u001b[0mt\u001b[0m \u001b[0;32min\u001b[0m \u001b[0mself\u001b[0m\u001b[0;34m.\u001b[0m\u001b[0m_threads\u001b[0m\u001b[0;34m:\u001b[0m\u001b[0;34m\u001b[0m\u001b[0;34m\u001b[0m\u001b[0m\n\u001b[0;32m--> 229\u001b[0;31m                 \u001b[0mt\u001b[0m\u001b[0;34m.\u001b[0m\u001b[0mjoin\u001b[0m\u001b[0;34m(\u001b[0m\u001b[0;34m)\u001b[0m\u001b[0;34m\u001b[0m\u001b[0;34m\u001b[0m\u001b[0m\n\u001b[0m\u001b[1;32m    230\u001b[0m     \u001b[0mshutdown\u001b[0m\u001b[0;34m.\u001b[0m\u001b[0m__doc__\u001b[0m \u001b[0;34m=\u001b[0m \u001b[0m_base\u001b[0m\u001b[0;34m.\u001b[0m\u001b[0mExecutor\u001b[0m\u001b[0;34m.\u001b[0m\u001b[0mshutdown\u001b[0m\u001b[0;34m.\u001b[0m\u001b[0m__doc__\u001b[0m\u001b[0;34m\u001b[0m\u001b[0;34m\u001b[0m\u001b[0m\n",
      "\u001b[0;32m~/.pyenv/versions/3.9.1/lib/python3.9/threading.py\u001b[0m in \u001b[0;36mjoin\u001b[0;34m(self, timeout)\u001b[0m\n\u001b[1;32m   1031\u001b[0m \u001b[0;34m\u001b[0m\u001b[0m\n\u001b[1;32m   1032\u001b[0m         \u001b[0;32mif\u001b[0m \u001b[0mtimeout\u001b[0m \u001b[0;32mis\u001b[0m \u001b[0;32mNone\u001b[0m\u001b[0;34m:\u001b[0m\u001b[0;34m\u001b[0m\u001b[0;34m\u001b[0m\u001b[0m\n\u001b[0;32m-> 1033\u001b[0;31m             \u001b[0mself\u001b[0m\u001b[0;34m.\u001b[0m\u001b[0m_wait_for_tstate_lock\u001b[0m\u001b[0;34m(\u001b[0m\u001b[0;34m)\u001b[0m\u001b[0;34m\u001b[0m\u001b[0;34m\u001b[0m\u001b[0m\n\u001b[0m\u001b[1;32m   1034\u001b[0m         \u001b[0;32melse\u001b[0m\u001b[0;34m:\u001b[0m\u001b[0;34m\u001b[0m\u001b[0;34m\u001b[0m\u001b[0m\n\u001b[1;32m   1035\u001b[0m             \u001b[0;31m# the behavior of a negative timeout isn't documented, but\u001b[0m\u001b[0;34m\u001b[0m\u001b[0;34m\u001b[0m\u001b[0;34m\u001b[0m\u001b[0m\n",
      "\u001b[0;32m~/.pyenv/versions/3.9.1/lib/python3.9/threading.py\u001b[0m in \u001b[0;36m_wait_for_tstate_lock\u001b[0;34m(self, block, timeout)\u001b[0m\n\u001b[1;32m   1047\u001b[0m         \u001b[0;32mif\u001b[0m \u001b[0mlock\u001b[0m \u001b[0;32mis\u001b[0m \u001b[0;32mNone\u001b[0m\u001b[0;34m:\u001b[0m  \u001b[0;31m# already determined that the C code is done\u001b[0m\u001b[0;34m\u001b[0m\u001b[0;34m\u001b[0m\u001b[0m\n\u001b[1;32m   1048\u001b[0m             \u001b[0;32massert\u001b[0m \u001b[0mself\u001b[0m\u001b[0;34m.\u001b[0m\u001b[0m_is_stopped\u001b[0m\u001b[0;34m\u001b[0m\u001b[0;34m\u001b[0m\u001b[0m\n\u001b[0;32m-> 1049\u001b[0;31m         \u001b[0;32melif\u001b[0m \u001b[0mlock\u001b[0m\u001b[0;34m.\u001b[0m\u001b[0macquire\u001b[0m\u001b[0;34m(\u001b[0m\u001b[0mblock\u001b[0m\u001b[0;34m,\u001b[0m \u001b[0mtimeout\u001b[0m\u001b[0;34m)\u001b[0m\u001b[0;34m:\u001b[0m\u001b[0;34m\u001b[0m\u001b[0;34m\u001b[0m\u001b[0m\n\u001b[0m\u001b[1;32m   1050\u001b[0m             \u001b[0mlock\u001b[0m\u001b[0;34m.\u001b[0m\u001b[0mrelease\u001b[0m\u001b[0;34m(\u001b[0m\u001b[0;34m)\u001b[0m\u001b[0;34m\u001b[0m\u001b[0;34m\u001b[0m\u001b[0m\n\u001b[1;32m   1051\u001b[0m             \u001b[0mself\u001b[0m\u001b[0;34m.\u001b[0m\u001b[0m_stop\u001b[0m\u001b[0;34m(\u001b[0m\u001b[0;34m)\u001b[0m\u001b[0;34m\u001b[0m\u001b[0;34m\u001b[0m\u001b[0m\n",
      "\u001b[0;31mKeyboardInterrupt\u001b[0m: "
     ]
    }
   ],
   "source": [
    "trace = m.sample(data=data, show_progress=\"notebook\")"
   ]
  },
  {
   "cell_type": "code",
   "execution_count": null,
   "id": "complimentary-julian",
   "metadata": {
    "scrolled": false
   },
   "outputs": [],
   "source": [
    "az.plot_trace(trace, var_names=['mu1', 'sg_w1', 'sg_u1', 'mu2', 'sg_w2', 'sg_u2']);"
   ]
  },
  {
   "cell_type": "code",
   "execution_count": 124,
   "id": "received-founder",
   "metadata": {
    "scrolled": true
   },
   "outputs": [
    {
     "name": "stderr",
     "output_type": "stream",
     "text": [
      "INFO:cmdstanpy:start chain 1\n",
      "INFO:cmdstanpy:finish chain 1\n"
     ]
    },
    {
     "ename": "RuntimeError",
     "evalue": "Error during optimization.\nRunSet: chains=1\n cmd:\n\t['/Users/aureliennioche/Documents/PythonProjects/ActiveTeachingCollaborative/modelXPdata', 'random', 'seed=1', 'data', 'file=/var/folders/yg/spp3n_c56vxbgvjy9wthwy_h0000gn/T/tmpjkjbswy2/2796kvba.json', 'output', 'file=/var/folders/yg/spp3n_c56vxbgvjy9wthwy_h0000gn/T/tmpjkjbswy2/modelXPdata-202103011823-1-6pp5k2d7.csv', 'method=optimize', 'algorithm=bfgs']\n retcodes=[-9]\n csv_files:\n\t/var/folders/yg/spp3n_c56vxbgvjy9wthwy_h0000gn/T/tmpjkjbswy2/modelXPdata-202103011823-1-6pp5k2d7.csv\n console_msgs:\n\t/var/folders/yg/spp3n_c56vxbgvjy9wthwy_h0000gn/T/tmpjkjbswy2/modelXPdata-202103011823-1-6pp5k2d7-stdout.txt",
     "output_type": "error",
     "traceback": [
      "\u001b[0;31m---------------------------------------------------------------------------\u001b[0m",
      "\u001b[0;31mRuntimeError\u001b[0m                              Traceback (most recent call last)",
      "\u001b[0;32m<timed exec>\u001b[0m in \u001b[0;36m<module>\u001b[0;34m\u001b[0m\n",
      "\u001b[0;32m~/.pyenv/versions/3.9.1/lib/python3.9/site-packages/cmdstanpy/model.py\u001b[0m in \u001b[0;36moptimize\u001b[0;34m(self, data, seed, inits, output_dir, sig_figs, algorithm, init_alpha, iter)\u001b[0m\n\u001b[1;32m    433\u001b[0m         \u001b[0;32mif\u001b[0m \u001b[0;32mnot\u001b[0m \u001b[0mrunset\u001b[0m\u001b[0;34m.\u001b[0m\u001b[0m_check_retcodes\u001b[0m\u001b[0;34m(\u001b[0m\u001b[0;34m)\u001b[0m\u001b[0;34m:\u001b[0m\u001b[0;34m\u001b[0m\u001b[0;34m\u001b[0m\u001b[0m\n\u001b[1;32m    434\u001b[0m             \u001b[0mmsg\u001b[0m \u001b[0;34m=\u001b[0m \u001b[0;34m'Error during optimization.\\n{}'\u001b[0m\u001b[0;34m.\u001b[0m\u001b[0mformat\u001b[0m\u001b[0;34m(\u001b[0m\u001b[0mrunset\u001b[0m\u001b[0;34m.\u001b[0m\u001b[0mget_err_msgs\u001b[0m\u001b[0;34m(\u001b[0m\u001b[0;34m)\u001b[0m\u001b[0;34m)\u001b[0m\u001b[0;34m\u001b[0m\u001b[0;34m\u001b[0m\u001b[0m\n\u001b[0;32m--> 435\u001b[0;31m             \u001b[0;32mraise\u001b[0m \u001b[0mRuntimeError\u001b[0m\u001b[0;34m(\u001b[0m\u001b[0mmsg\u001b[0m\u001b[0;34m)\u001b[0m\u001b[0;34m\u001b[0m\u001b[0;34m\u001b[0m\u001b[0m\n\u001b[0m\u001b[1;32m    436\u001b[0m         \u001b[0mmle\u001b[0m \u001b[0;34m=\u001b[0m \u001b[0mCmdStanMLE\u001b[0m\u001b[0;34m(\u001b[0m\u001b[0mrunset\u001b[0m\u001b[0;34m)\u001b[0m\u001b[0;34m\u001b[0m\u001b[0;34m\u001b[0m\u001b[0m\n\u001b[1;32m    437\u001b[0m         \u001b[0;32mreturn\u001b[0m \u001b[0mmle\u001b[0m\u001b[0;34m\u001b[0m\u001b[0;34m\u001b[0m\u001b[0m\n",
      "\u001b[0;31mRuntimeError\u001b[0m: Error during optimization.\nRunSet: chains=1\n cmd:\n\t['/Users/aureliennioche/Documents/PythonProjects/ActiveTeachingCollaborative/modelXPdata', 'random', 'seed=1', 'data', 'file=/var/folders/yg/spp3n_c56vxbgvjy9wthwy_h0000gn/T/tmpjkjbswy2/2796kvba.json', 'output', 'file=/var/folders/yg/spp3n_c56vxbgvjy9wthwy_h0000gn/T/tmpjkjbswy2/modelXPdata-202103011823-1-6pp5k2d7.csv', 'method=optimize', 'algorithm=bfgs']\n retcodes=[-9]\n csv_files:\n\t/var/folders/yg/spp3n_c56vxbgvjy9wthwy_h0000gn/T/tmpjkjbswy2/modelXPdata-202103011823-1-6pp5k2d7.csv\n console_msgs:\n\t/var/folders/yg/spp3n_c56vxbgvjy9wthwy_h0000gn/T/tmpjkjbswy2/modelXPdata-202103011823-1-6pp5k2d7-stdout.txt"
     ]
    }
   ],
   "source": [
    "%%time\n",
    "mp = m.optimize(data=data, algorithm='BFGS', seed=1)"
   ]
  },
  {
   "cell_type": "code",
   "execution_count": 40,
   "id": "unlike-fever",
   "metadata": {},
   "outputs": [
    {
     "name": "stdout",
     "output_type": "stream",
     "text": [
      "mu1 -4.72463\n",
      "sg_w1 0.0873687\n",
      "sg_u1 0.0456307\n",
      "mu2 -0.652582\n",
      "sg_w2 0.0839005\n",
      "sg_u2 0.0454835\n"
     ]
    }
   ],
   "source": [
    "for var in 'mu1', 'sg_w1', 'sg_u1', 'mu2', 'sg_w2', 'sg_u2':\n",
    "    print(var, mp.optimized_params_dict[var])"
   ]
  }
 ],
 "metadata": {
  "kernelspec": {
   "display_name": "Python 3",
   "language": "python",
   "name": "python3"
  },
  "language_info": {
   "codemirror_mode": {
    "name": "ipython",
    "version": 3
   },
   "file_extension": ".py",
   "mimetype": "text/x-python",
   "name": "python",
   "nbconvert_exporter": "python",
   "pygments_lexer": "ipython3",
   "version": "3.9.1"
  },
  "toc": {
   "base_numbering": 1,
   "nav_menu": {},
   "number_sections": true,
   "sideBar": true,
   "skip_h1_title": false,
   "title_cell": "Table of Contents",
   "title_sidebar": "Contents",
   "toc_cell": false,
   "toc_position": {},
   "toc_section_display": true,
   "toc_window_display": true
  }
 },
 "nbformat": 4,
 "nbformat_minor": 5
}
