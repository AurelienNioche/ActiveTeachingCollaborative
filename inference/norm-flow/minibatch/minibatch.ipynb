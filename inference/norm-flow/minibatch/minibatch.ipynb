{
 "cells": [
  {
   "cell_type": "code",
   "execution_count": 20,
   "id": "e234f3fc",
   "metadata": {},
   "outputs": [],
   "source": [
    "import numpy as np\n",
    "import torch\n",
    "from torch import optim\n",
    "from tqdm.autonotebook import tqdm\n",
    "from torch import distributions as dist\n",
    "from torch.utils.data import Dataset, DataLoader\n",
    "\n",
    "import pandas as pd\n",
    "\n",
    "from inference.plot import plot_loss, plot_posterior\n",
    "from simulate.simulate import simulate\n",
    "from inference.plannar import NormalizingFlow"
   ]
  },
  {
   "cell_type": "code",
   "execution_count": 21,
   "id": "c2e28e21",
   "metadata": {},
   "outputs": [],
   "source": [
    "class Loss:\n",
    "    @staticmethod\n",
    "    def __call__(z_flow, theta_flow, n_sample, n_u, n_w, \n",
    "                 u, w, x, r, y):\n",
    "        \n",
    "        z0_Z = z_flow.sample_base_dist(n_sample)\n",
    "        zk_Z, prior_logprob_Z, log_det_Z = z_flow(z0_Z)\n",
    "\n",
    "        z0_θ = theta_flow.sample_base_dist(n_sample)\n",
    "        zk_θ, prior_logprob_θ, log_det_θ = theta_flow(z0_θ)\n",
    "\n",
    "        ln_q0_Z = prior_logprob_Z.sum()\n",
    "        ln_q0_θ = prior_logprob_θ.sum()\n",
    "\n",
    "        sum_ld_Z = log_det_Z.sum()\n",
    "        sum_ld_θ = log_det_θ.sum()\n",
    "\n",
    "        Zu1 = zk_Z[:, :n_u].T\n",
    "        Zw1 = zk_Z[:, n_u:n_w + n_u].T\n",
    "\n",
    "        Zu2 = zk_Z[:, n_w + n_u:n_w + n_u * 2].T\n",
    "        Zw2 = zk_Z[:, n_w + n_u * 2:].T\n",
    "\n",
    "        mu1, log_var_u1, log_var_w1 = zk_θ[:, :3].T\n",
    "        mu2, log_var_u2, log_var_w2 = zk_θ[:, 3:].T\n",
    "\n",
    "        Z1 = Zu1[u] + Zw1[w]\n",
    "        Z2 = Zu2[u] + Zw2[w]\n",
    "\n",
    "        param1 = torch.exp(Z1)\n",
    "        param2 = torch.sigmoid(Z2)\n",
    "\n",
    "        log_p = -param1 * x * (1 - param2) ** r\n",
    "\n",
    "        ll = dist.Bernoulli(probs=torch.exp(log_p)).log_prob(y).sum()\n",
    "\n",
    "        uniq_u = np.unique(u)\n",
    "        uniq_w = np.unique(w)\n",
    "        \n",
    "        ll_Zu1 = dist.Normal(mu1, torch.exp(0.5 * log_var_u1)).log_prob(Zu1[uniq_u]).sum()\n",
    "        ll_Zw1 = dist.Normal(mu1, torch.exp(0.5 * log_var_w1)).log_prob(Zw1[uniq_w]).sum()\n",
    "\n",
    "        ll_Zu2 = dist.Normal(mu2, torch.exp(0.5 * log_var_u2)).log_prob(Zu2[uniq_u]).sum()\n",
    "        ll_Zw2 = dist.Normal(mu2, torch.exp(0.5 * log_var_w2)).log_prob(Zw2[uniq_w]).sum()\n",
    "        \n",
    "        batch_size = len(u)\n",
    "\n",
    "        to_min = (ln_q0_Z + ln_q0_θ - sum_ld_Z - sum_ld_θ\n",
    "                  - ll - ll_Zu1 - ll_Zu2 - ll_Zw1 - ll_Zw2) / (n_sample + batch_size)\n",
    "        return to_min"
   ]
  },
  {
   "cell_type": "code",
   "execution_count": 22,
   "id": "bf8e13b2",
   "metadata": {},
   "outputs": [],
   "source": [
    "class TeachingDataset(Dataset):\n",
    "    def __init__(self, u, w, x, r, y):\n",
    "        super().__init__()\n",
    "        self.x = torch.from_numpy(x.reshape(-1, 1))\n",
    "        self.y = torch.from_numpy(y.reshape(-1, 1))\n",
    "        self.r = torch.from_numpy(r.reshape(-1, 1))\n",
    "        self.u = u\n",
    "        self.w = w\n",
    "        \n",
    "        self.n_u = len(np.unique(u))\n",
    "        self.n_w = len(np.unique(w))\n",
    "    \n",
    "    def __len__(self):\n",
    "        return len(self.u)\n",
    "        \n",
    "    def __getitem__(self, idx):\n",
    "        return {'x': self.x[idx], \n",
    "                'y': self.y[idx], \n",
    "                'r': self.r[idx], \n",
    "                'u': self.u[idx], \n",
    "                'w': self.w[idx]}\n",
    "        \n",
    "    "
   ]
  },
  {
   "cell_type": "code",
   "execution_count": 23,
   "id": "cd276c11",
   "metadata": {},
   "outputs": [],
   "source": [
    "data_dict, truth = simulate()"
   ]
  },
  {
   "cell_type": "code",
   "execution_count": 24,
   "id": "fa9923ce",
   "metadata": {},
   "outputs": [],
   "source": [
    "training_data = TeachingDataset(**data_dict)"
   ]
  },
  {
   "cell_type": "code",
   "execution_count": 25,
   "id": "7eb31967",
   "metadata": {},
   "outputs": [
    {
     "name": "stdout",
     "output_type": "stream",
     "text": [
      "N user 20\n",
      "N item 20\n"
     ]
    }
   ],
   "source": [
    "n_u = training_data.n_u\n",
    "n_w = training_data.n_w\n",
    "print(\"N user\", n_u)\n",
    "print(\"N item\", n_w)"
   ]
  },
  {
   "cell_type": "code",
   "execution_count": null,
   "id": "7b085d75",
   "metadata": {},
   "outputs": [
    {
     "data": {
      "application/vnd.jupyter.widget-view+json": {
       "model_id": "163beab2284d40d6b69a4aab550f898d",
       "version_major": 2,
       "version_minor": 0
      },
      "text/plain": [
       "  0%|          | 0/5000 [00:00<?, ?it/s]"
      ]
     },
     "metadata": {},
     "output_type": "display_data"
    }
   ],
   "source": [
    "initial_lr = 0.01\n",
    "flow_length = 8\n",
    "n_epochs = 5000\n",
    "n_sample = 40\n",
    "batch_size= 128\n",
    "\n",
    "freq_update_loss = 1 # for the progress bar\n",
    "\n",
    "\n",
    "dataloader = DataLoader(training_data, batch_size=batch_size, shuffle=True)\n",
    "\n",
    "\n",
    "z_flow = NormalizingFlow(dim=(n_u + n_w) * 2, flow_length=flow_length)\n",
    "theta_flow = NormalizingFlow(6, flow_length=flow_length)\n",
    "\n",
    "optimizer = optim.Adam(\n",
    "    list(z_flow.parameters()) + list(theta_flow.parameters()),\n",
    "    lr=initial_lr)\n",
    "\n",
    "hist_loss = np.zeros(n_epochs)\n",
    "loss_func = Loss()\n",
    "\n",
    "with tqdm(total=n_epochs) as pbar:\n",
    "\n",
    "    for epoch in range(n_epochs):\n",
    "\n",
    "        for d in dataloader:\n",
    "\n",
    "            optimizer.zero_grad()\n",
    "            loss = loss_func(z_flow=z_flow,\n",
    "                             theta_flow=theta_flow,\n",
    "                             n_sample=n_sample,\n",
    "                             n_u=n_u, n_w=n_w,\n",
    "                             **d)\n",
    "            loss.backward()\n",
    "            optimizer.step()\n",
    "\n",
    "        hist_loss[epoch] = loss.item()\n",
    "\n",
    "        if epoch % freq_update_loss == 0 and epoch > 0:\n",
    "            pbar.set_postfix(\n",
    "                {'loss': np.mean(hist_loss[epoch - freq_update_loss:epoch])})\n",
    "        pbar.update()"
   ]
  },
  {
   "cell_type": "code",
   "execution_count": null,
   "id": "a61955c9",
   "metadata": {},
   "outputs": [],
   "source": [
    "plot_posterior(theta_flow=theta_flow, \n",
    "               truth=truth, \n",
    "               name='artificial_mini_batch')"
   ]
  },
  {
   "cell_type": "code",
   "execution_count": null,
   "id": "569c4b7e",
   "metadata": {},
   "outputs": [],
   "source": [
    "plot_loss(hist_loss=hist_loss, name=\"artificial_mini_batch\")"
   ]
  },
  {
   "cell_type": "code",
   "execution_count": null,
   "id": "0b8ae025",
   "metadata": {},
   "outputs": [],
   "source": []
  }
 ],
 "metadata": {
  "kernelspec": {
   "display_name": "Python 3",
   "language": "python",
   "name": "python3"
  },
  "language_info": {
   "codemirror_mode": {
    "name": "ipython",
    "version": 3
   },
   "file_extension": ".py",
   "mimetype": "text/x-python",
   "name": "python",
   "nbconvert_exporter": "python",
   "pygments_lexer": "ipython3",
   "version": "3.9.1"
  },
  "toc": {
   "base_numbering": 1,
   "nav_menu": {},
   "number_sections": true,
   "sideBar": true,
   "skip_h1_title": false,
   "title_cell": "Table of Contents",
   "title_sidebar": "Contents",
   "toc_cell": false,
   "toc_position": {},
   "toc_section_display": true,
   "toc_window_display": false
  }
 },
 "nbformat": 4,
 "nbformat_minor": 5
}
