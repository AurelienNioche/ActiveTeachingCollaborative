{
 "cells": [
  {
   "cell_type": "code",
   "execution_count": 7,
   "id": "e234f3fc",
   "metadata": {},
   "outputs": [],
   "source": [
    "import matplotlib.pyplot as plt\n",
    "import pandas as pd\n",
    "import seaborn as sns\n",
    "\n",
    "from simulate.simulate import simulate\n",
    "\n",
    "from inference.loss_minibatch import LossMinibatch\n",
    "from inference.train_minibatch import train_minibatch\n",
    "\n",
    "from plot.plot_hist_loss import plot_loss\n",
    "from plot.plot_posterior import plot_posterior"
   ]
  },
  {
   "cell_type": "code",
   "execution_count": 8,
   "id": "1ac1afc5",
   "metadata": {},
   "outputs": [],
   "source": [
    "%config InlineBackend.figure_format = \"retina\"\n",
    "sns.set()"
   ]
  },
  {
   "cell_type": "code",
   "execution_count": 9,
   "id": "cd276c11",
   "metadata": {},
   "outputs": [],
   "source": [
    "data, truth = simulate(use_torch=True)"
   ]
  },
  {
   "cell_type": "code",
   "execution_count": null,
   "id": "e24757c3",
   "metadata": {},
   "outputs": [
    {
     "data": {
      "application/vnd.jupyter.widget-view+json": {
       "model_id": "77800cd15f434f3f84139bda291783bb",
       "version_major": 2,
       "version_minor": 0
      },
      "text/plain": [
       "  0%|          | 0/5000 [00:00<?, ?it/s]"
      ]
     },
     "metadata": {},
     "output_type": "display_data"
    }
   ],
   "source": [
    "z_flow, theta_flow, hist_loss = train_minibatch(\n",
    "    data, \n",
    "    optimizer_name='Adam',\n",
    "    batch_size=1000, \n",
    "    n_sample=100,\n",
    "    initial_lr=0.005, \n",
    "    flow_length=40, \n",
    "    n_epochs=5000)"
   ]
  },
  {
   "cell_type": "code",
   "execution_count": null,
   "id": "dc2784a7",
   "metadata": {
    "scrolled": true
   },
   "outputs": [],
   "source": [
    "plot_posterior(theta_flow=theta_flow, \n",
    "               truth=truth, \n",
    "               name='artificial_mini_batch')"
   ]
  }
 ],
 "metadata": {
  "kernelspec": {
   "display_name": "Python 3",
   "language": "python",
   "name": "python3"
  },
  "language_info": {
   "codemirror_mode": {
    "name": "ipython",
    "version": 3
   },
   "file_extension": ".py",
   "mimetype": "text/x-python",
   "name": "python",
   "nbconvert_exporter": "python",
   "pygments_lexer": "ipython3",
   "version": "3.9.1"
  },
  "toc": {
   "base_numbering": 1,
   "nav_menu": {},
   "number_sections": true,
   "sideBar": true,
   "skip_h1_title": false,
   "title_cell": "Table of Contents",
   "title_sidebar": "Contents",
   "toc_cell": false,
   "toc_position": {},
   "toc_section_display": true,
   "toc_window_display": false
  }
 },
 "nbformat": 4,
 "nbformat_minor": 5
}
