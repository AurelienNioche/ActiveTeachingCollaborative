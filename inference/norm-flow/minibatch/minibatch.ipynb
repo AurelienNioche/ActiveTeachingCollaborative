{
 "cells": [
  {
   "cell_type": "code",
   "execution_count": 23,
   "id": "e234f3fc",
   "metadata": {},
   "outputs": [],
   "source": [
    "import numpy as np\n",
    "import torch\n",
    "from torch import optim\n",
    "from tqdm.autonotebook import tqdm\n",
    "\n",
    "import pandas as pd\n",
    "\n",
    "from inference.plot import plot_loss, plot_posterior\n",
    "from simulate.simulate import simulate\n",
    "from inference.plannar import NormalizingFlow\n",
    "from inference.loss import LossTeaching"
   ]
  },
  {
   "cell_type": "code",
   "execution_count": 9,
   "id": "4d2c7f07",
   "metadata": {},
   "outputs": [],
   "source": [
    "def train(x, y, r, u, w, n_u, n_w,\n",
    "          flow_length=16, epochs=10000, initial_lr=0.01, batch_size=40,\n",
    "          freq_update_loss=50):\n",
    "    z_flow = NormalizingFlow(dim=(n_u + n_w) * 2, flow_length=flow_length)\n",
    "    theta_flow = NormalizingFlow(6, flow_length=flow_length)\n",
    "\n",
    "    loss_func = LossTeaching(x=x, y=y, r=r, u=u, w=w, n_u=n_u, n_w=n_w)\n",
    "\n",
    "    optimizer = optim.Adam(\n",
    "        list(z_flow.parameters()) + list(theta_flow.parameters()),\n",
    "        lr=initial_lr)\n",
    "    # scheduler = optim.lr_scheduler.ExponentialLR(optimizer, lr_decay)\n",
    "\n",
    "    hist_loss = np.zeros(epochs)\n",
    "\n",
    "    with tqdm(total=epochs) as pbar:\n",
    "\n",
    "        for i in range(epochs):\n",
    "\n",
    "            optimizer.zero_grad()\n",
    "            loss = loss_func(z_flow=z_flow,\n",
    "                             theta_flow=theta_flow,\n",
    "                             batch_size=batch_size)\n",
    "            loss.backward()\n",
    "            optimizer.step()\n",
    "            # scheduler.step()\n",
    "\n",
    "            hist_loss[i] = loss.item()\n",
    "\n",
    "            if i % freq_update_loss == 0 and i > 0:\n",
    "                pbar.set_postfix(\n",
    "                    {'loss': np.mean(hist_loss[i - freq_update_loss:i])})\n",
    "            pbar.update()\n",
    "\n",
    "    return z_flow, theta_flow, hist_loss"
   ]
  },
  {
   "cell_type": "code",
   "execution_count": 32,
   "id": "cd276c11",
   "metadata": {},
   "outputs": [],
   "source": [
    "data, truth = simulate()"
   ]
  },
  {
   "cell_type": "code",
   "execution_count": 33,
   "id": "37ab98a8",
   "metadata": {},
   "outputs": [],
   "source": [
    "df = pd.DataFrame({'u': data['u'],\n",
    "                   'w': data['w'],\n",
    "                   'x': data['x'],\n",
    "                   'r': data['r'],\n",
    "                   'y': data['y']})"
   ]
  },
  {
   "cell_type": "code",
   "execution_count": 34,
   "id": "c15c6e47",
   "metadata": {},
   "outputs": [],
   "source": [
    "n_u = len(df.u.unique())\n",
    "n_w = len(df.w.unique())"
   ]
  },
  {
   "cell_type": "code",
   "execution_count": null,
   "id": "657b8953",
   "metadata": {},
   "outputs": [
    {
     "data": {
      "application/vnd.jupyter.widget-view+json": {
       "model_id": "4939e0c9496c4921904fb2111fc76dc3",
       "version_major": 2,
       "version_minor": 0
      },
      "text/plain": [
       "  0%|          | 0/5000 [00:00<?, ?it/s]"
      ]
     },
     "metadata": {},
     "output_type": "display_data"
    }
   ],
   "source": [
    "N = len(df)\n",
    "\n",
    "initial_lr=0.01\n",
    "\n",
    "flow_length = 16\n",
    "\n",
    "freq_update_loss = 5\n",
    "\n",
    "n_epochs = 5000\n",
    "batch_size = 128\n",
    "\n",
    "\n",
    "z_flow = NormalizingFlow(dim=(n_u + n_w) * 2, flow_length=flow_length)\n",
    "theta_flow = NormalizingFlow(6, flow_length=flow_length)\n",
    "\n",
    "optimizer = optim.Adam(\n",
    "    list(z_flow.parameters()) + list(theta_flow.parameters()),\n",
    "    lr=initial_lr)\n",
    "# scheduler = optim.lr_scheduler.ExponentialLR(optimizer, lr_decay)\n",
    "\n",
    "hist_loss = np.zeros(n_epochs)\n",
    "\n",
    "with tqdm(total=n_epochs) as pbar:\n",
    "\n",
    "    for epoch in range(n_epochs):\n",
    "\n",
    "        # X is a torch Variable\n",
    "        permutation = torch.randperm(N)\n",
    "\n",
    "        for i in range(0,N, batch_size):\n",
    "\n",
    "            indices = permutation[i:i+batch_size]\n",
    "\n",
    "            batch = df.loc[indices]\n",
    "            loss_func = LossTeaching(\n",
    "                x=batch.x.values, \n",
    "                y=batch.y.values, \n",
    "                r=batch.r.values, \n",
    "                u=batch.u.values, \n",
    "                w=batch.w.values, \n",
    "                n_u=n_u, n_w=n_w)\n",
    "\n",
    "            optimizer.zero_grad()\n",
    "            loss = loss_func(z_flow=z_flow,\n",
    "                             theta_flow=theta_flow,\n",
    "                             batch_size=batch_size)\n",
    "            loss.backward()\n",
    "            optimizer.step()\n",
    "            # scheduler.step()\n",
    "\n",
    "        hist_loss[epoch] = loss.item()\n",
    "\n",
    "        if epoch % freq_update_loss == 0 and epoch > 0:\n",
    "            pbar.set_postfix(\n",
    "                {'loss': np.mean(hist_loss[epoch - freq_update_loss:epoch])})\n",
    "        pbar.update()"
   ]
  },
  {
   "cell_type": "code",
   "execution_count": null,
   "id": "7919d208",
   "metadata": {},
   "outputs": [],
   "source": [
    "plot_posterior(theta_flow=theta_flow, \n",
    "               truth=truth, \n",
    "               name='artificial_mini_batch')"
   ]
  },
  {
   "cell_type": "code",
   "execution_count": null,
   "id": "1b3b2c7b",
   "metadata": {},
   "outputs": [],
   "source": [
    "plot_loss(hist_loss=hist_loss, name=\"artificial_mini_batch\")"
   ]
  }
 ],
 "metadata": {
  "kernelspec": {
   "display_name": "Python 3",
   "language": "python",
   "name": "python3"
  },
  "language_info": {
   "codemirror_mode": {
    "name": "ipython",
    "version": 3
   },
   "file_extension": ".py",
   "mimetype": "text/x-python",
   "name": "python",
   "nbconvert_exporter": "python",
   "pygments_lexer": "ipython3",
   "version": "3.9.1"
  },
  "toc": {
   "base_numbering": 1,
   "nav_menu": {},
   "number_sections": true,
   "sideBar": true,
   "skip_h1_title": false,
   "title_cell": "Table of Contents",
   "title_sidebar": "Contents",
   "toc_cell": false,
   "toc_position": {},
   "toc_section_display": true,
   "toc_window_display": false
  }
 },
 "nbformat": 4,
 "nbformat_minor": 5
}
