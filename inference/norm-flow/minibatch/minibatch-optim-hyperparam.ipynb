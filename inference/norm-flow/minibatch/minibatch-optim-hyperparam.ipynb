{
 "cells": [
  {
   "cell_type": "code",
   "execution_count": 7,
   "id": "e234f3fc",
   "metadata": {},
   "outputs": [],
   "source": [
    "import matplotlib.pyplot as plt\n",
    "import pandas as pd\n",
    "import seaborn as sns\n",
    "import numpy as np\n",
    "import optuna\n",
    "\n",
    "from simulate.simulate import simulate\n",
    "\n",
    "from inference.loss_minibatch import LossMinibatch\n",
    "from inference.train_minibatch import train_minibatch\n",
    "\n",
    "from plot.plot_hist_loss import plot_loss\n",
    "from plot.plot_posterior import plot_posterior"
   ]
  },
  {
   "cell_type": "code",
   "execution_count": 9,
   "id": "1ac1afc5",
   "metadata": {},
   "outputs": [],
   "source": [
    "%config InlineBackend.figure_format = \"retina\"\n",
    "sns.set()"
   ]
  },
  {
   "cell_type": "code",
   "execution_count": 10,
   "id": "5108c2a6",
   "metadata": {},
   "outputs": [],
   "source": [
    "data, truth = simulate(use_torch=True)"
   ]
  },
  {
   "cell_type": "code",
   "execution_count": 11,
   "id": "b36f87cd",
   "metadata": {},
   "outputs": [],
   "source": [
    "def objective(trial):\n",
    "    \n",
    "    try:\n",
    "        kwargs = dict(\n",
    "            n_epochs=200,\n",
    "            initial_lr=trial.suggest_float(\"lr\", 1e-5, 1e-1, log=True),\n",
    "            optimizer_name=\"RMSprop\", # trial.suggest_categorical(\"optimizer\", [\"Adam\", \"RMSprop\", \"SGD\"]),\n",
    "            constant_lr=False,        # trial.suggest_categorical(\"constant_lr\", [True, False]),\n",
    "            flow_length=trial.suggest_int(\"flow_length\", 1, 40),\n",
    "            n_sample=trial.suggest_int(\"n_sample\", 1, 100),\n",
    "            batch_size=1000\n",
    "        )\n",
    "\n",
    "        z_flow, theta_flow, hist_loss = train_minibatch(data, **kwargs)\n",
    "\n",
    "        loss = LossMinibatch()(\n",
    "            batch_size=None, # Take all data at once\n",
    "            z_flow=z_flow,\n",
    "            theta_flow=theta_flow,\n",
    "            n_sample=100,\n",
    "            n_u=len(np.unique(data['u'])), \n",
    "            n_w=len(np.unique(data['w'])),\n",
    "            **data).item()\n",
    "    except:\n",
    "        loss = np.nan\n",
    "    return loss"
   ]
  },
  {
   "cell_type": "code",
   "execution_count": null,
   "id": "d12c1ed2",
   "metadata": {
    "scrolled": false
   },
   "outputs": [
    {
     "name": "stderr",
     "output_type": "stream",
     "text": [
      "\u001b[32m[I 2021-06-02 15:33:59,926]\u001b[0m A new study created in memory with name: no-name-65780f9a-104d-4a1d-bbfd-0e2ace6837a4\u001b[0m\n"
     ]
    },
    {
     "data": {
      "application/vnd.jupyter.widget-view+json": {
       "model_id": "923ea55b11c642399d8bfa8c37f6aa1c",
       "version_major": 2,
       "version_minor": 0
      },
      "text/plain": [
       "  0%|          | 0/200 [00:00<?, ?it/s]"
      ]
     },
     "metadata": {},
     "output_type": "display_data"
    },
    {
     "name": "stderr",
     "output_type": "stream",
     "text": [
      "\u001b[33m[W 2021-06-02 15:39:46,822]\u001b[0m Trial 0 failed, because the objective function returned nan.\u001b[0m\n"
     ]
    },
    {
     "data": {
      "application/vnd.jupyter.widget-view+json": {
       "model_id": "6d517d6c66674b7ba2479fb6a977bf6f",
       "version_major": 2,
       "version_minor": 0
      },
      "text/plain": [
       "  0%|          | 0/200 [00:00<?, ?it/s]"
      ]
     },
     "metadata": {},
     "output_type": "display_data"
    }
   ],
   "source": [
    "study = optuna.create_study(direction=\"minimize\")\n",
    "study.optimize(objective, n_trials=300)\n",
    "\n",
    "study.best_params"
   ]
  },
  {
   "cell_type": "code",
   "execution_count": null,
   "id": "29baf705",
   "metadata": {},
   "outputs": [],
   "source": []
  }
 ],
 "metadata": {
  "kernelspec": {
   "display_name": "Python 3",
   "language": "python",
   "name": "python3"
  },
  "language_info": {
   "codemirror_mode": {
    "name": "ipython",
    "version": 3
   },
   "file_extension": ".py",
   "mimetype": "text/x-python",
   "name": "python",
   "nbconvert_exporter": "python",
   "pygments_lexer": "ipython3",
   "version": "3.9.1"
  },
  "toc": {
   "base_numbering": 1,
   "nav_menu": {},
   "number_sections": true,
   "sideBar": true,
   "skip_h1_title": false,
   "title_cell": "Table of Contents",
   "title_sidebar": "Contents",
   "toc_cell": false,
   "toc_position": {},
   "toc_section_display": true,
   "toc_window_display": false
  }
 },
 "nbformat": 4,
 "nbformat_minor": 5
}
