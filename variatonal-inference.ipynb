{
 "cells": [
  {
   "cell_type": "code",
   "execution_count": 1,
   "id": "agreed-asian",
   "metadata": {},
   "outputs": [],
   "source": [
    "import numpy as np\n",
    "import torch\n",
    "from torch import nn\n",
    "import torch.distributions as dist\n",
    "import matplotlib.pyplot as plt\n",
    "import scipy"
   ]
  },
  {
   "cell_type": "markdown",
   "id": "dominican-savannah",
   "metadata": {},
   "source": [
    "# Gaussian regression"
   ]
  },
  {
   "cell_type": "code",
   "execution_count": 80,
   "id": "respiratory-substitute",
   "metadata": {},
   "outputs": [],
   "source": [
    "np.random.seed(123)\n",
    "\n",
    "# Parameters to be inferred\n",
    "alpha = 4.0\n",
    "beta = 0.5\n",
    "sigma = 1.0 #1.0\n",
    "\n",
    "# Generate and plot data\n",
    "x = 10 * np.random.rand(100)\n",
    "mu = alpha + beta * x\n",
    "y = np.random.normal(mu, scale=sigma)"
   ]
  },
  {
   "cell_type": "code",
   "execution_count": 81,
   "id": "early-family",
   "metadata": {
    "scrolled": true
   },
   "outputs": [
    {
     "data": {
      "image/png": "[encoded data removed]",
      "text/plain": [
       "<Figure size 432x288 with 1 Axes>"
      ]
     },
     "metadata": {
      "needs_background": "light"
     },
     "output_type": "display_data"
    }
   ],
   "source": [
    "plt.scatter(x, y);"
   ]
  },
  {
   "cell_type": "code",
   "execution_count": 82,
   "id": "multiple-amateur",
   "metadata": {},
   "outputs": [],
   "source": [
    "idx = np.argsort(x)\n",
    "x = x[idx]\n",
    "y = y[idx]\n",
    "X = torch.tensor(x[:, None], dtype=torch.float)\n",
    "Y = torch.tensor(y[:, None], dtype=torch.float)"
   ]
  },
  {
   "cell_type": "code",
   "execution_count": 103,
   "id": "adopted-radius",
   "metadata": {},
   "outputs": [],
   "source": [
    "class LinearRegression(nn.Module):\n",
    "    def __init__(self):\n",
    "        super().__init__()\n",
    "        self.alpha = nn.Parameter(torch.zeros(1))\n",
    "        self.beta = nn.Parameter(torch.zeros(1))\n",
    "            \n",
    "    def forward(self, x):\n",
    "        y_pred = self.alpha + self.beta* x\n",
    "        return y_pred"
   ]
  },
  {
   "cell_type": "code",
   "execution_count": 104,
   "id": "ideal-savage",
   "metadata": {},
   "outputs": [
    {
     "name": "stdout",
     "output_type": "stream",
     "text": [
      "Layer: alpha | Size: torch.Size([1]) | Values : tensor([0.], grad_fn=<SliceBackward>) \n",
      "\n",
      "Layer: beta | Size: torch.Size([1]) | Values : tensor([0.], grad_fn=<SliceBackward>) \n",
      "\n"
     ]
    }
   ],
   "source": [
    "model = LinearRegression()\n",
    "for name, param in model.named_parameters():\n",
    "    print(\n",
    "        f\"Layer: {name} | Size: {param.size()} | Values : {param[:2]} \\n\")"
   ]
  },
  {
   "cell_type": "code",
   "execution_count": 105,
   "id": "fantastic-likelihood",
   "metadata": {},
   "outputs": [],
   "source": [
    "def det_loss(y_pred):\n",
    "    return torch.square(y_pred - Y).sum()"
   ]
  },
  {
   "cell_type": "code",
   "execution_count": 106,
   "id": "intensive-purpose",
   "metadata": {},
   "outputs": [],
   "source": [
    "epochs = 5000\n",
    "\n",
    "optim = torch.optim.Adam(model.parameters(), lr=0.005)\n",
    "\n",
    "for epoch in range(epochs):\n",
    "    optim.zero_grad()\n",
    "    y_pred = model(X)\n",
    "    loss = det_loss(y_pred)\n",
    "    loss.backward()\n",
    "    optim.step()"
   ]
  },
  {
   "cell_type": "code",
   "execution_count": 107,
   "id": "acquired-password",
   "metadata": {},
   "outputs": [
    {
     "name": "stdout",
     "output_type": "stream",
     "text": [
      "Layer: alpha | Size: torch.Size([1]) | Values : tensor([4.1693], grad_fn=<SliceBackward>) \n",
      "\n",
      "Layer: beta | Size: torch.Size([1]) | Values : tensor([0.4732], grad_fn=<SliceBackward>) \n",
      "\n"
     ]
    }
   ],
   "source": [
    "for name, param in model.named_parameters():\n",
    "    print(f\"Layer: {name} | Size: {param.size()} | Values : {param[:2]} \\n\")"
   ]
  },
  {
   "cell_type": "markdown",
   "id": "recorded-wrapping",
   "metadata": {},
   "source": [
    "---"
   ]
  },
  {
   "cell_type": "code",
   "execution_count": 176,
   "id": "assumed-password",
   "metadata": {},
   "outputs": [],
   "source": [
    "class LinearRegression(nn.Module):\n",
    "    def __init__(self):\n",
    "        super().__init__()\n",
    "        self.alpha = nn.Parameter(torch.zeros(1))\n",
    "        self.beta = nn.Parameter(torch.zeros(1))\n",
    "        self.sigma = nn.Parameter(torch.zeros(1))\n",
    "    \n",
    "    def forward(self, x):\n",
    "        y_pred = self.alpha + self.beta* x\n",
    "        return y_pred\n",
    "    \n",
    "    def log_lik(self, x, y_pred):\n",
    "        mu = self.alpha + self.beta*x\n",
    "        sg = self.sigma.exp()\n",
    "        likelihood = dist.Normal(mu, sg).log_prob(Y)\n",
    "        return likelihood.sum()\n",
    "    \n",
    "    def det_loss(self, x, y_pred):\n",
    "        return -self.log_lik(x, y_pred) "
   ]
  },
  {
   "cell_type": "code",
   "execution_count": 177,
   "id": "conditional-passenger",
   "metadata": {},
   "outputs": [
    {
     "name": "stdout",
     "output_type": "stream",
     "text": [
      "Layer: alpha | Size: torch.Size([1]) | Values : tensor([0.], grad_fn=<SliceBackward>) \n",
      "\n",
      "Layer: beta | Size: torch.Size([1]) | Values : tensor([0.], grad_fn=<SliceBackward>) \n",
      "\n",
      "Layer: sigma | Size: torch.Size([1]) | Values : tensor([0.], grad_fn=<SliceBackward>) \n",
      "\n"
     ]
    }
   ],
   "source": [
    "model = LinearRegression()\n",
    "for name, param in model.named_parameters():\n",
    "    print(f\"Layer: {name} | Size: {param.size()} | Values : {param[:2]} \\n\")"
   ]
  },
  {
   "cell_type": "code",
   "execution_count": 178,
   "id": "atlantic-brake",
   "metadata": {},
   "outputs": [],
   "source": [
    "epochs = 5000\n",
    "\n",
    "optim = torch.optim.Adam(model.parameters(), lr=0.005)\n",
    "\n",
    "for epoch in range(epochs):\n",
    "    optim.zero_grad()\n",
    "    y_pred = model(X)\n",
    "    loss = model.det_loss(X, y_pred)\n",
    "    loss.backward()\n",
    "    optim.step()"
   ]
  },
  {
   "cell_type": "code",
   "execution_count": 179,
   "id": "interested-jamaica",
   "metadata": {},
   "outputs": [
    {
     "name": "stdout",
     "output_type": "stream",
     "text": [
      "Layer: alpha | Size: torch.Size([1]) | Values : tensor([4.1699], grad_fn=<SliceBackward>) \n",
      "\n",
      "Layer: beta | Size: torch.Size([1]) | Values : tensor([0.4731], grad_fn=<SliceBackward>) \n",
      "\n",
      "Layer: sigma | Size: torch.Size([1]) | Values : tensor([-0.0219], grad_fn=<SliceBackward>) \n",
      "\n"
     ]
    }
   ],
   "source": [
    "for name, param in model.named_parameters():\n",
    "    print(f\"Layer: {name} | Size: {param.size()} | Values : {param[:2]} \\n\")"
   ]
  },
  {
   "cell_type": "code",
   "execution_count": 180,
   "id": "stupid-warrant",
   "metadata": {},
   "outputs": [
    {
     "data": {
      "text/plain": [
       "0.9783380639660794"
      ]
     },
     "execution_count": 180,
     "metadata": {},
     "output_type": "execute_result"
    }
   ],
   "source": [
    "np.exp(-0.0219)"
   ]
  },
  {
   "cell_type": "markdown",
   "id": "athletic-philosophy",
   "metadata": {},
   "source": [
    "---"
   ]
  },
  {
   "cell_type": "code",
   "execution_count": 2,
   "id": "distant-groove",
   "metadata": {},
   "outputs": [
    {
     "ename": "ModuleNotFoundError",
     "evalue": "No module named 'numpyro'",
     "output_type": "error",
     "traceback": [
      "\u001b[0;31m---------------------------------------------------------------------------\u001b[0m",
      "\u001b[0;31mModuleNotFoundError\u001b[0m                       Traceback (most recent call last)",
      "\u001b[0;32m<ipython-input-2-c714a75f4912>\u001b[0m in \u001b[0;36m<module>\u001b[0;34m\u001b[0m\n\u001b[0;32m----> 1\u001b[0;31m \u001b[0;32mimport\u001b[0m \u001b[0mnumpyro\u001b[0m\u001b[0;34m\u001b[0m\u001b[0;34m\u001b[0m\u001b[0m\n\u001b[0m",
      "\u001b[0;31mModuleNotFoundError\u001b[0m: No module named 'numpyro'"
     ]
    }
   ],
   "source": [
    "import numpyro"
   ]
  },
  {
   "cell_type": "markdown",
   "id": "statistical-episode",
   "metadata": {},
   "source": [
    "---"
   ]
  },
  {
   "cell_type": "code",
   "execution_count": 13,
   "id": "freelance-lewis",
   "metadata": {},
   "outputs": [],
   "source": [
    "class VI(nn.Module):\n",
    "    def __init__(self):\n",
    "        super().__init__()\n",
    "        \n",
    "        self.q_mu = nn.Sequential(\n",
    "            nn.Linear(1, 20),\n",
    "            nn.ReLU(),\n",
    "            nn.Linear(20, 10),\n",
    "            nn.ReLU(),\n",
    "            nn.Linear(10, 1)\n",
    "        )\n",
    "        self.q_log_var = nn.Sequential(\n",
    "            nn.Linear(1, 20),\n",
    "            nn.ReLU(),\n",
    "            nn.Linear(20, 10),\n",
    "            nn.ReLU(),\n",
    "            nn.Linear(10, 1)\n",
    "        )\n",
    "        \n",
    "    def reparameterize(self, mu, log_var):\n",
    "        # std can not be negative, thats why we use log variance\n",
    "        sigma = torch.exp(0.5 * log_var) + 1e-5\n",
    "        eps = torch.randn_like(sigma)\n",
    "        return mu + sigma * eps\n",
    "    \n",
    "    def forward(self, x):\n",
    "        mu = self.q_mu(x)\n",
    "        log_var = self.q_log_var(x)\n",
    "        return self.reparameterize(mu, log_var), mu, log_var"
   ]
  },
  {
   "cell_type": "code",
   "execution_count": 14,
   "id": "alpha-wealth",
   "metadata": {},
   "outputs": [],
   "source": [
    "def elbo(y_pred, y, mu, log_var):\n",
    "    sigma = log_var.exp()**0.5\n",
    "    # likelihood of observing y given Variational mu and sigma\n",
    "    likelihood = dist.Normal(mu, sigma).log_prob(y)\n",
    "    \n",
    "    # prior probability of y_pred\n",
    "    log_prior = dist.Normal(0, 1).log_prob(y_pred)\n",
    "    \n",
    "    # variational probability of y_pred\n",
    "    log_p_q = dist.Normal(mu, sigma).log_prob(y_pred) \n",
    "    \n",
    "    # by taking the mean we approximate the expectation\n",
    "    return (likelihood + log_prior - log_p_q).mean()\n",
    "\n",
    "def det_loss(y_pred, y, mu, log_var):\n",
    "    return -elbo(y_pred, y, mu, log_var) "
   ]
  },
  {
   "cell_type": "code",
   "execution_count": 15,
   "id": "french-cherry",
   "metadata": {},
   "outputs": [],
   "source": [
    "epochs = 1500\n",
    "\n",
    "m = VI()\n",
    "optim = torch.optim.Adam(m.parameters(), lr=0.005)\n",
    "\n",
    "for epoch in range(epochs):\n",
    "    optim.zero_grad()\n",
    "    y_pred, mu, log_var = m(X)\n",
    "    loss = det_loss(y_pred, Y, mu, log_var)\n",
    "    loss.backward()\n",
    "    optim.step()"
   ]
  },
  {
   "cell_type": "code",
   "execution_count": 16,
   "id": "bigger-display",
   "metadata": {},
   "outputs": [
    {
     "name": "stdout",
     "output_type": "stream",
     "text": [
      "tensor(5.7703)\n"
     ]
    }
   ],
   "source": [
    "with torch.no_grad():\n",
    "    print(torch.abs(m(X)[1] - Y).mean())"
   ]
  },
  {
   "cell_type": "code",
   "execution_count": 17,
   "id": "activated-soccer",
   "metadata": {},
   "outputs": [],
   "source": [
    "# draw samples from Q(theta)\n",
    "with torch.no_grad():\n",
    "    y_pred = torch.cat([m(X)[0] for _ in range(1000)], dim=1)\n",
    "    \n",
    "# Get some quantiles\n",
    "q1, mu, q2 = np.quantile(y_pred, [0.05, 0.5, 0.95], axis=1)"
   ]
  },
  {
   "cell_type": "code",
   "execution_count": 18,
   "id": "intense-victim",
   "metadata": {},
   "outputs": [
    {
     "data": {
      "text/plain": [
       "<matplotlib.collections.PolyCollection at 0x12d818940>"
      ]
     },
     "execution_count": 18,
     "metadata": {},
     "output_type": "execute_result"
    },
    {
     "data": {
      "image/png": "[encoded data removed]",
      "text/plain": [
       "<Figure size 1152x432 with 1 Axes>"
      ]
     },
     "metadata": {
      "needs_background": "light"
     },
     "output_type": "display_data"
    }
   ],
   "source": [
    "plt.figure(figsize=(16, 6))\n",
    "plt.scatter(X, Y)\n",
    "plt.plot(X, mu)\n",
    "plt.fill_between(X.flatten(), q1, q2, alpha=0.2)"
   ]
  },
  {
   "cell_type": "code",
   "execution_count": 19,
   "id": "musical-ensemble",
   "metadata": {},
   "outputs": [],
   "source": [
    "# # draw samples from Q(theta)\n",
    "# with torch.no_grad():\n",
    "#     n = 1000\n",
    "#     y_pred_sample = np.zeros(n)\n",
    "#     mu_sample = np.zeros(n)\n",
    "#     var_sample = np.zeros(n)\n",
    "#     for i in range(n):\n",
    "#         y_pred, mu, log_var = m(X)\n",
    "    \n",
    "# # Get some quantiles\n",
    "# q1, mu, q2 = np.quantile(y_pred, [0.05, 0.5, 0.95], axis=1)"
   ]
  },
  {
   "cell_type": "markdown",
   "id": "thrown-august",
   "metadata": {},
   "source": [
    "# Not for now"
   ]
  },
  {
   "cell_type": "code",
   "execution_count": 43,
   "id": "traditional-huntington",
   "metadata": {},
   "outputs": [
    {
     "data": {
      "text/plain": [
       "array([0, 0, 1, 1, 0, 0, 0, 0, 0, 1, 1, 0, 1, 1, 1, 0, 1, 1, 1, 0, 0, 1,\n",
       "       0, 0, 0, 0, 1, 1, 0, 0, 1, 1, 0, 0, 0, 1, 1, 0, 0, 0, 1, 1, 0, 0,\n",
       "       0, 0, 0, 1, 0, 0, 1, 0, 1, 1, 0, 1, 0, 0, 0, 0, 0, 0, 0, 1, 0, 1,\n",
       "       0, 0, 0, 0, 1, 1, 0, 0, 1, 1, 1, 1, 1, 0, 0, 1, 1, 0, 0, 0, 1, 1,\n",
       "       0, 0, 1, 0, 1, 0, 1, 0, 1, 0, 1, 1])"
      ]
     },
     "execution_count": 43,
     "metadata": {},
     "output_type": "execute_result"
    }
   ],
   "source": [
    "# Seed\n",
    "np.random.seed(123)\n",
    "\n",
    "# Parameterization\n",
    "mu = -4\n",
    "\n",
    "# Number of obs\n",
    "n_o = 100\n",
    "\n",
    "shape = n_o \n",
    "x = np.random.uniform(0, 100, size=shape)\n",
    "rd = np.random.random(size=shape)\n",
    "\n",
    "y = np.zeros(shape=shape, dtype=int)\n",
    "theta = np.zeros(shape=shape)\n",
    "theta[:] = mu\n",
    "\n",
    "rate = np.exp(theta)\n",
    "exponent = - rate * x\n",
    "p = np.exp(exponent)\n",
    "y[:] = p > rd\n",
    "y"
   ]
  },
  {
   "cell_type": "code",
   "execution_count": 44,
   "id": "satisfied-provider",
   "metadata": {
    "scrolled": false
   },
   "outputs": [
    {
     "data": {
      "text/plain": [
       "      fun: 57.71283888084386\n",
       " hess_inv: array([[0.0196484]])\n",
       "      jac: array([0.])\n",
       "  message: 'Optimization terminated successfully.'\n",
       "     nfev: 20\n",
       "      nit: 8\n",
       "     njev: 10\n",
       "   status: 0\n",
       "  success: True\n",
       "        x: array([-3.96093495])"
      ]
     },
     "execution_count": 44,
     "metadata": {},
     "output_type": "execute_result"
    }
   ],
   "source": [
    "def objective(param):\n",
    "    \n",
    "    rate_hat = np.exp(param)\n",
    "    exponent = - rate_hat * x\n",
    "    p_hat = np.exp(exponent)\n",
    "    p_obs = p_hat**y*(1-p_hat)**(1-y)\n",
    "    return - np.log(p_obs+np.finfo(float).eps).sum()\n",
    "\n",
    "\n",
    "scipy.optimize.minimize(objective, x0=0)"
   ]
  }
 ],
 "metadata": {
  "kernelspec": {
   "display_name": "Python 3",
   "language": "python",
   "name": "python3"
  },
  "language_info": {
   "codemirror_mode": {
    "name": "ipython",
    "version": 3
   },
   "file_extension": ".py",
   "mimetype": "text/x-python",
   "name": "python",
   "nbconvert_exporter": "python",
   "pygments_lexer": "ipython3",
   "version": "3.9.1"
  },
  "toc": {
   "base_numbering": 1,
   "nav_menu": {},
   "number_sections": true,
   "sideBar": true,
   "skip_h1_title": false,
   "title_cell": "Table of Contents",
   "title_sidebar": "Contents",
   "toc_cell": false,
   "toc_position": {},
   "toc_section_display": true,
   "toc_window_display": false
  }
 },
 "nbformat": 4,
 "nbformat_minor": 5
}
